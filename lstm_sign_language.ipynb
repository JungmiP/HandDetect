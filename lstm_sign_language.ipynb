{
 "cells": [
  {
   "cell_type": "code",
   "execution_count": 2,
   "id": "2def1a1b-4831-45d6-b357-795701c66945",
   "metadata": {},
   "outputs": [
    {
     "name": "stdout",
     "output_type": "stream",
     "text": [
      "Found existing installation: numpy 1.26.4\n",
      "Uninstalling numpy-1.26.4:\n",
      "  Successfully uninstalled numpy-1.26.4\n"
     ]
    }
   ],
   "source": [
    "!pip uninstall numpy -y"
   ]
  },
  {
   "cell_type": "code",
   "execution_count": 3,
   "id": "35b78385-1942-4e86-982e-87d44491ce13",
   "metadata": {},
   "outputs": [
    {
     "name": "stdout",
     "output_type": "stream",
     "text": [
      "Collecting numpy==1.26.4\n",
      "  Using cached numpy-1.26.4-cp310-cp310-win_amd64.whl.metadata (61 kB)\n",
      "Using cached numpy-1.26.4-cp310-cp310-win_amd64.whl (15.8 MB)\n",
      "Installing collected packages: numpy\n",
      "Successfully installed numpy-1.26.4\n"
     ]
    },
    {
     "name": "stderr",
     "output_type": "stream",
     "text": [
      "ERROR: pip's dependency resolver does not currently take into account all the packages that are installed. This behaviour is the source of the following dependency conflicts.\n",
      "mediapipe 0.10.14 requires protobuf<5,>=4.25.3, but you have protobuf 3.19.4 which is incompatible.\n"
     ]
    }
   ],
   "source": [
    "!pip install numpy==1.26.4"
   ]
  },
  {
   "cell_type": "code",
   "execution_count": 4,
   "id": "04d1aa50-42a0-44aa-8013-d87ac508df80",
   "metadata": {},
   "outputs": [
    {
     "name": "stdout",
     "output_type": "stream",
     "text": [
      "Collecting scikit-learn\n",
      "  Downloading scikit_learn-1.5.1-cp310-cp310-win_amd64.whl.metadata (12 kB)\n",
      "Requirement already satisfied: numpy>=1.19.5 in c:\\users\\user\\anaconda3\\envs\\mediapipe_project_env01\\lib\\site-packages (from scikit-learn) (1.26.4)\n",
      "Requirement already satisfied: scipy>=1.6.0 in c:\\users\\user\\anaconda3\\envs\\mediapipe_project_env01\\lib\\site-packages (from scikit-learn) (1.14.0)\n",
      "Collecting joblib>=1.2.0 (from scikit-learn)\n",
      "  Using cached joblib-1.4.2-py3-none-any.whl.metadata (5.4 kB)\n",
      "Collecting threadpoolctl>=3.1.0 (from scikit-learn)\n",
      "  Using cached threadpoolctl-3.5.0-py3-none-any.whl.metadata (13 kB)\n",
      "Downloading scikit_learn-1.5.1-cp310-cp310-win_amd64.whl (11.0 MB)\n",
      "   ---------------------------------------- 0.0/11.0 MB ? eta -:--:--\n",
      "   ---------------------------------------- 0.1/11.0 MB 2.6 MB/s eta 0:00:05\n",
      "   - -------------------------------------- 0.5/11.0 MB 6.7 MB/s eta 0:00:02\n",
      "   ---- ----------------------------------- 1.2/11.0 MB 9.3 MB/s eta 0:00:02\n",
      "   ------- -------------------------------- 2.0/11.0 MB 11.5 MB/s eta 0:00:01\n",
      "   ----------- ---------------------------- 3.2/11.0 MB 14.7 MB/s eta 0:00:01\n",
      "   --------------- ------------------------ 4.2/11.0 MB 16.7 MB/s eta 0:00:01\n",
      "   --------------- ------------------------ 4.2/11.0 MB 13.5 MB/s eta 0:00:01\n",
      "   ---------------------- ----------------- 6.2/11.0 MB 18.0 MB/s eta 0:00:01\n",
      "   -------------------------------- ------- 8.9/11.0 MB 22.8 MB/s eta 0:00:01\n",
      "   ---------------------------------------  11.0/11.0 MB 31.1 MB/s eta 0:00:01\n",
      "   ---------------------------------------- 11.0/11.0 MB 28.4 MB/s eta 0:00:00\n",
      "Using cached joblib-1.4.2-py3-none-any.whl (301 kB)\n",
      "Using cached threadpoolctl-3.5.0-py3-none-any.whl (18 kB)\n",
      "Installing collected packages: threadpoolctl, joblib, scikit-learn\n",
      "Successfully installed joblib-1.4.2 scikit-learn-1.5.1 threadpoolctl-3.5.0\n"
     ]
    }
   ],
   "source": [
    "!pip install -U scikit-learn"
   ]
  },
  {
   "cell_type": "code",
   "execution_count": 1,
   "id": "0dea7ec9-b203-4f51-a21a-601372af5a56",
   "metadata": {},
   "outputs": [],
   "source": [
    "import numpy as np\n",
    "import glob\n",
    "import os\n",
    "from tensorflow.keras.utils import to_categorical\n",
    "from sklearn.model_selection import train_test_split\n",
    "from tensorflow.keras.models import Sequential\n",
    "from tensorflow.keras.layers import LSTM, Dense, Flatten, Dropout\n",
    "from tensorflow.keras.callbacks import ModelCheckpoint, EarlyStopping\n",
    "from tensorflow.keras.optimizers import Adam"
   ]
  },
  {
   "cell_type": "code",
   "execution_count": 2,
   "id": "9ee871e4-2808-4fe4-bb26-fc761096210f",
   "metadata": {},
   "outputs": [],
   "source": [
    "os.environ[\"CUDA_VISIBLE_DEVICES\"] = \"0\""
   ]
  },
  {
   "cell_type": "code",
   "execution_count": 3,
   "id": "22b73f88-63af-4cd5-8b1c-47221d928334",
   "metadata": {},
   "outputs": [],
   "source": [
    "gesture = {\n",
    "    0:\"A\", 1:\"B\", 2:\"C\", 3:\"D\", 4:\"E\", 5:\"F\", 6:\"G\", 7:\"H\", 8:\"I\", 9:\"J\", 10:\"K\", 11:\"L\", 12:\"M\", 13:\"N\",\n",
    "    14:\"O\", 15:\"P\", 16:\"Q\", 17:\"R\", 18:\"S\", 19:\"T\", 20:\"U\", 21:\"V\", 22:\"W\", 23:\"X\", 24:\"Y\", 25:\"Z\"\n",
    "}"
   ]
  },
  {
   "cell_type": "code",
   "execution_count": 4,
   "id": "109a3232-3015-4870-85f5-3a29851ce193",
   "metadata": {},
   "outputs": [
    {
     "data": {
      "text/plain": [
       "26"
      ]
     },
     "execution_count": 4,
     "metadata": {},
     "output_type": "execute_result"
    }
   ],
   "source": [
    "len(gesture)"
   ]
  },
  {
   "cell_type": "code",
   "execution_count": 5,
   "id": "5339f4fa-43a3-41c7-afef-1c90eba61613",
   "metadata": {},
   "outputs": [],
   "source": [
    "path = \"C://ai_project01/hand_detect01/hand_dataset/*.npy\""
   ]
  },
  {
   "cell_type": "code",
   "execution_count": 6,
   "id": "f53933d5-8507-4377-a66f-2ec582fd0c64",
   "metadata": {},
   "outputs": [
    {
     "data": {
      "text/plain": [
       "['C://ai_project01/hand_detect01/hand_dataset\\\\A_1721723012.npy',\n",
       " 'C://ai_project01/hand_detect01/hand_dataset\\\\A_1721730423.npy',\n",
       " 'C://ai_project01/hand_detect01/hand_dataset\\\\B_1721723543.npy',\n",
       " 'C://ai_project01/hand_detect01/hand_dataset\\\\B_1721730462.npy',\n",
       " 'C://ai_project01/hand_detect01/hand_dataset\\\\C_1721723588.npy',\n",
       " 'C://ai_project01/hand_detect01/hand_dataset\\\\C_1721730500.npy',\n",
       " 'C://ai_project01/hand_detect01/hand_dataset\\\\D_1721723632.npy',\n",
       " 'C://ai_project01/hand_detect01/hand_dataset\\\\D_1721730536.npy',\n",
       " 'C://ai_project01/hand_detect01/hand_dataset\\\\E_1721723786.npy',\n",
       " 'C://ai_project01/hand_detect01/hand_dataset\\\\E_1721730573.npy',\n",
       " 'C://ai_project01/hand_detect01/hand_dataset\\\\F_1721723834.npy',\n",
       " 'C://ai_project01/hand_detect01/hand_dataset\\\\F_1721730615.npy',\n",
       " 'C://ai_project01/hand_detect01/hand_dataset\\\\G_1721726433.npy',\n",
       " 'C://ai_project01/hand_detect01/hand_dataset\\\\G_1721730655.npy',\n",
       " 'C://ai_project01/hand_detect01/hand_dataset\\\\H_1721726755.npy',\n",
       " 'C://ai_project01/hand_detect01/hand_dataset\\\\H_1721730700.npy',\n",
       " 'C://ai_project01/hand_detect01/hand_dataset\\\\I_1721726797.npy',\n",
       " 'C://ai_project01/hand_detect01/hand_dataset\\\\I_1721730738.npy',\n",
       " 'C://ai_project01/hand_detect01/hand_dataset\\\\J_1721726855.npy',\n",
       " 'C://ai_project01/hand_detect01/hand_dataset\\\\J_1721730774.npy',\n",
       " 'C://ai_project01/hand_detect01/hand_dataset\\\\K_1721726906.npy',\n",
       " 'C://ai_project01/hand_detect01/hand_dataset\\\\K_1721730908.npy',\n",
       " 'C://ai_project01/hand_detect01/hand_dataset\\\\L_1721726969.npy',\n",
       " 'C://ai_project01/hand_detect01/hand_dataset\\\\L_1721730953.npy',\n",
       " 'C://ai_project01/hand_detect01/hand_dataset\\\\M_1721729667.npy',\n",
       " 'C://ai_project01/hand_detect01/hand_dataset\\\\M_1721730999.npy',\n",
       " 'C://ai_project01/hand_detect01/hand_dataset\\\\N_1721729714.npy',\n",
       " 'C://ai_project01/hand_detect01/hand_dataset\\\\N_1721731037.npy',\n",
       " 'C://ai_project01/hand_detect01/hand_dataset\\\\O_1721729768.npy',\n",
       " 'C://ai_project01/hand_detect01/hand_dataset\\\\O_1721731078.npy',\n",
       " 'C://ai_project01/hand_detect01/hand_dataset\\\\P_1721729844.npy',\n",
       " 'C://ai_project01/hand_detect01/hand_dataset\\\\P_1721731114.npy',\n",
       " 'C://ai_project01/hand_detect01/hand_dataset\\\\Q_1721729897.npy',\n",
       " 'C://ai_project01/hand_detect01/hand_dataset\\\\Q_1721731161.npy',\n",
       " 'C://ai_project01/hand_detect01/hand_dataset\\\\R_1721729941.npy',\n",
       " 'C://ai_project01/hand_detect01/hand_dataset\\\\R_1721731208.npy',\n",
       " 'C://ai_project01/hand_detect01/hand_dataset\\\\S_1721729993.npy',\n",
       " 'C://ai_project01/hand_detect01/hand_dataset\\\\S_1721731244.npy',\n",
       " 'C://ai_project01/hand_detect01/hand_dataset\\\\T_1721730040.npy',\n",
       " 'C://ai_project01/hand_detect01/hand_dataset\\\\T_1721731282.npy',\n",
       " 'C://ai_project01/hand_detect01/hand_dataset\\\\U_1721730103.npy',\n",
       " 'C://ai_project01/hand_detect01/hand_dataset\\\\U_1721731605.npy',\n",
       " 'C://ai_project01/hand_detect01/hand_dataset\\\\V_1721730154.npy',\n",
       " 'C://ai_project01/hand_detect01/hand_dataset\\\\V_1721731644.npy',\n",
       " 'C://ai_project01/hand_detect01/hand_dataset\\\\W_1721730190.npy',\n",
       " 'C://ai_project01/hand_detect01/hand_dataset\\\\W_1721731677.npy',\n",
       " 'C://ai_project01/hand_detect01/hand_dataset\\\\X_1721730278.npy',\n",
       " 'C://ai_project01/hand_detect01/hand_dataset\\\\X_1721731726.npy',\n",
       " 'C://ai_project01/hand_detect01/hand_dataset\\\\Y_1721730331.npy',\n",
       " 'C://ai_project01/hand_detect01/hand_dataset\\\\Y_1721731761.npy',\n",
       " 'C://ai_project01/hand_detect01/hand_dataset\\\\Z_1721730375.npy',\n",
       " 'C://ai_project01/hand_detect01/hand_dataset\\\\Z_1721731796.npy']"
      ]
     },
     "execution_count": 6,
     "metadata": {},
     "output_type": "execute_result"
    }
   ],
   "source": [
    "file_list = glob.glob(path)\n",
    "file_list"
   ]
  },
  {
   "cell_type": "code",
   "execution_count": 7,
   "id": "8c5d6d61-3589-470c-a7c6-d22bed9cdfa3",
   "metadata": {},
   "outputs": [
    {
     "name": "stdout",
     "output_type": "stream",
     "text": [
      "file= C://ai_project01/hand_detect01/hand_dataset\\A_1721723012.npy\n",
      "data.shape= (570, 79)\n",
      "file= C://ai_project01/hand_detect01/hand_dataset\\A_1721730423.npy\n",
      "data.shape= (598, 79)\n",
      "file= C://ai_project01/hand_detect01/hand_dataset\\B_1721723543.npy\n",
      "data.shape= (623, 79)\n",
      "file= C://ai_project01/hand_detect01/hand_dataset\\B_1721730462.npy\n",
      "data.shape= (595, 79)\n",
      "file= C://ai_project01/hand_detect01/hand_dataset\\C_1721723588.npy\n",
      "data.shape= (633, 79)\n",
      "file= C://ai_project01/hand_detect01/hand_dataset\\C_1721730500.npy\n",
      "data.shape= (599, 79)\n",
      "file= C://ai_project01/hand_detect01/hand_dataset\\D_1721723632.npy\n",
      "data.shape= (606, 79)\n",
      "file= C://ai_project01/hand_detect01/hand_dataset\\D_1721730536.npy\n",
      "data.shape= (599, 79)\n",
      "file= C://ai_project01/hand_detect01/hand_dataset\\E_1721723786.npy\n",
      "data.shape= (600, 79)\n",
      "file= C://ai_project01/hand_detect01/hand_dataset\\E_1721730573.npy\n",
      "data.shape= (597, 79)\n",
      "file= C://ai_project01/hand_detect01/hand_dataset\\F_1721723834.npy\n",
      "data.shape= (604, 79)\n",
      "file= C://ai_project01/hand_detect01/hand_dataset\\F_1721730615.npy\n",
      "data.shape= (599, 79)\n",
      "file= C://ai_project01/hand_detect01/hand_dataset\\G_1721726433.npy\n",
      "data.shape= (666, 79)\n",
      "file= C://ai_project01/hand_detect01/hand_dataset\\G_1721730655.npy\n",
      "data.shape= (598, 79)\n",
      "file= C://ai_project01/hand_detect01/hand_dataset\\H_1721726755.npy\n",
      "data.shape= (599, 79)\n",
      "file= C://ai_project01/hand_detect01/hand_dataset\\H_1721730700.npy\n",
      "data.shape= (599, 79)\n",
      "file= C://ai_project01/hand_detect01/hand_dataset\\I_1721726797.npy\n",
      "data.shape= (599, 79)\n",
      "file= C://ai_project01/hand_detect01/hand_dataset\\I_1721730738.npy\n",
      "data.shape= (599, 79)\n",
      "file= C://ai_project01/hand_detect01/hand_dataset\\J_1721726855.npy\n",
      "data.shape= (599, 79)\n",
      "file= C://ai_project01/hand_detect01/hand_dataset\\J_1721730774.npy\n",
      "data.shape= (598, 79)\n",
      "file= C://ai_project01/hand_detect01/hand_dataset\\K_1721726906.npy\n",
      "data.shape= (599, 79)\n",
      "file= C://ai_project01/hand_detect01/hand_dataset\\K_1721730908.npy\n",
      "data.shape= (599, 79)\n",
      "file= C://ai_project01/hand_detect01/hand_dataset\\L_1721726969.npy\n",
      "data.shape= (599, 79)\n",
      "file= C://ai_project01/hand_detect01/hand_dataset\\L_1721730953.npy\n",
      "data.shape= (599, 79)\n",
      "file= C://ai_project01/hand_detect01/hand_dataset\\M_1721729667.npy\n",
      "data.shape= (599, 79)\n",
      "file= C://ai_project01/hand_detect01/hand_dataset\\M_1721730999.npy\n",
      "data.shape= (599, 79)\n",
      "file= C://ai_project01/hand_detect01/hand_dataset\\N_1721729714.npy\n",
      "data.shape= (599, 79)\n",
      "file= C://ai_project01/hand_detect01/hand_dataset\\N_1721731037.npy\n",
      "data.shape= (599, 79)\n",
      "file= C://ai_project01/hand_detect01/hand_dataset\\O_1721729768.npy\n",
      "data.shape= (599, 79)\n",
      "file= C://ai_project01/hand_detect01/hand_dataset\\O_1721731078.npy\n",
      "data.shape= (599, 79)\n",
      "file= C://ai_project01/hand_detect01/hand_dataset\\P_1721729844.npy\n",
      "data.shape= (598, 79)\n",
      "file= C://ai_project01/hand_detect01/hand_dataset\\P_1721731114.npy\n",
      "data.shape= (599, 79)\n",
      "file= C://ai_project01/hand_detect01/hand_dataset\\Q_1721729897.npy\n",
      "data.shape= (595, 79)\n",
      "file= C://ai_project01/hand_detect01/hand_dataset\\Q_1721731161.npy\n",
      "data.shape= (599, 79)\n",
      "file= C://ai_project01/hand_detect01/hand_dataset\\R_1721729941.npy\n",
      "data.shape= (599, 79)\n",
      "file= C://ai_project01/hand_detect01/hand_dataset\\R_1721731208.npy\n",
      "data.shape= (599, 79)\n",
      "file= C://ai_project01/hand_detect01/hand_dataset\\S_1721729993.npy\n",
      "data.shape= (599, 79)\n",
      "file= C://ai_project01/hand_detect01/hand_dataset\\S_1721731244.npy\n",
      "data.shape= (599, 79)\n",
      "file= C://ai_project01/hand_detect01/hand_dataset\\T_1721730040.npy\n",
      "data.shape= (599, 79)\n",
      "file= C://ai_project01/hand_detect01/hand_dataset\\T_1721731282.npy\n",
      "data.shape= (599, 79)\n",
      "file= C://ai_project01/hand_detect01/hand_dataset\\U_1721730103.npy\n",
      "data.shape= (599, 79)\n",
      "file= C://ai_project01/hand_detect01/hand_dataset\\U_1721731605.npy\n",
      "data.shape= (599, 79)\n",
      "file= C://ai_project01/hand_detect01/hand_dataset\\V_1721730154.npy\n",
      "data.shape= (596, 79)\n",
      "file= C://ai_project01/hand_detect01/hand_dataset\\V_1721731644.npy\n",
      "data.shape= (599, 79)\n",
      "file= C://ai_project01/hand_detect01/hand_dataset\\W_1721730190.npy\n",
      "data.shape= (596, 79)\n",
      "file= C://ai_project01/hand_detect01/hand_dataset\\W_1721731677.npy\n",
      "data.shape= (599, 79)\n",
      "file= C://ai_project01/hand_detect01/hand_dataset\\X_1721730278.npy\n",
      "data.shape= (599, 79)\n",
      "file= C://ai_project01/hand_detect01/hand_dataset\\X_1721731726.npy\n",
      "data.shape= (599, 79)\n",
      "file= C://ai_project01/hand_detect01/hand_dataset\\Y_1721730331.npy\n",
      "data.shape= (599, 79)\n",
      "file= C://ai_project01/hand_detect01/hand_dataset\\Y_1721731761.npy\n",
      "data.shape= (599, 79)\n",
      "file= C://ai_project01/hand_detect01/hand_dataset\\Z_1721730375.npy\n",
      "data.shape= (599, 79)\n",
      "file= C://ai_project01/hand_detect01/hand_dataset\\Z_1721731796.npy\n",
      "data.shape= (594, 79)\n"
     ]
    }
   ],
   "source": [
    "data_list = []\n",
    "for file in file_list:\n",
    "    print(\"file=\", file)\n",
    "    data = np.load(file)\n",
    "    print(\"data.shape=\", data.shape)\n",
    "    data_list.extend(data[:570, :])"
   ]
  },
  {
   "cell_type": "code",
   "execution_count": 8,
   "id": "30051a86-166b-4ba6-81a9-feb3e96c1211",
   "metadata": {},
   "outputs": [
    {
     "data": {
      "text/plain": [
       "29640"
      ]
     },
     "execution_count": 8,
     "metadata": {},
     "output_type": "execute_result"
    }
   ],
   "source": [
    "len(data_list)"
   ]
  },
  {
   "cell_type": "code",
   "execution_count": 9,
   "id": "106e0caa-91cb-4e77-9a3f-323d6c3fce37",
   "metadata": {},
   "outputs": [
    {
     "data": {
      "text/plain": [
       "(29640, 79)"
      ]
     },
     "execution_count": 9,
     "metadata": {},
     "output_type": "execute_result"
    }
   ],
   "source": [
    "all_data = np.array(data_list, dtype=np.float32)\n",
    "all_data.shape"
   ]
  },
  {
   "cell_type": "code",
   "execution_count": 10,
   "id": "06140dbc-8933-4fca-b737-c88da4a8c1a8",
   "metadata": {},
   "outputs": [
    {
     "data": {
      "text/plain": [
       "(5928, 5, 79)"
      ]
     },
     "execution_count": 10,
     "metadata": {},
     "output_type": "execute_result"
    }
   ],
   "source": [
    "all_data_lstm = all_data.reshape(-1, 5, 79)\n",
    "all_data_lstm.shape"
   ]
  },
  {
   "cell_type": "code",
   "execution_count": 11,
   "id": "f85ff18d-bc46-4f71-9fc6-f1ef8815ce2b",
   "metadata": {},
   "outputs": [
    {
     "data": {
      "text/plain": [
       "array([[[ 5.41418791e-01,  1.02469242e+00, -3.78588965e-07, ...,\n",
       "          1.22927895e+02,  1.81128502e+01,  0.00000000e+00],\n",
       "        [ 5.29943705e-01,  9.76406217e-01, -2.16568893e-07, ...,\n",
       "          1.36588150e+02,  2.46361294e+01,  0.00000000e+00],\n",
       "        [ 5.31997859e-01,  8.75668526e-01, -4.60569282e-07, ...,\n",
       "          1.38435745e+02,  3.49805565e+01,  0.00000000e+00],\n",
       "        [ 5.21186888e-01,  9.12965715e-01, -2.08773315e-07, ...,\n",
       "          1.38044907e+02,  2.90323753e+01,  0.00000000e+00],\n",
       "        [ 5.16700745e-01,  8.47322404e-01, -1.90984224e-07, ...,\n",
       "          1.29887085e+02,  4.26585541e+01,  0.00000000e+00]],\n",
       "\n",
       "       [[ 5.09839475e-01,  7.80641973e-01, -3.14486044e-07, ...,\n",
       "          1.44458435e+02,  3.14400883e+01,  0.00000000e+00],\n",
       "        [ 4.99299496e-01,  7.06157029e-01, -3.56293327e-07, ...,\n",
       "          1.47486847e+02,  3.77945175e+01,  0.00000000e+00],\n",
       "        [ 4.78329301e-01,  6.43304110e-01, -4.07905816e-07, ...,\n",
       "          1.50739685e+02,  4.42455292e+01,  0.00000000e+00],\n",
       "        [ 4.57055092e-01,  5.73407650e-01, -1.03132254e-06, ...,\n",
       "          1.56247849e+02,  4.46738777e+01,  0.00000000e+00],\n",
       "        [ 4.64873880e-01,  5.72004199e-01, -2.47061820e-07, ...,\n",
       "          1.58108917e+02,  5.24464493e+01,  0.00000000e+00]],\n",
       "\n",
       "       [[ 4.95789707e-01,  5.38593411e-01, -5.15826287e-07, ...,\n",
       "          1.54024734e+02,  4.70948715e+01,  0.00000000e+00],\n",
       "        [ 5.22094905e-01,  5.25044739e-01, -6.60063336e-07, ...,\n",
       "          1.46092392e+02,  4.46491547e+01,  0.00000000e+00],\n",
       "        [ 5.30080140e-01,  5.15589476e-01, -7.43790054e-07, ...,\n",
       "          1.48815079e+02,  4.30120735e+01,  0.00000000e+00],\n",
       "        [ 5.14584780e-01,  5.24467111e-01, -8.94737639e-07, ...,\n",
       "          1.41297989e+02,  4.83709984e+01,  0.00000000e+00],\n",
       "        [ 5.00358760e-01,  5.41147172e-01, -8.94673803e-07, ...,\n",
       "          1.43242386e+02,  5.14430237e+01,  0.00000000e+00]],\n",
       "\n",
       "       ...,\n",
       "\n",
       "       [[ 5.58168769e-01,  6.81025803e-01,  1.53449861e-07, ...,\n",
       "          7.79803848e+01,  6.81266403e+01,  2.50000000e+01],\n",
       "        [ 5.61655045e-01,  6.77811801e-01,  1.44634313e-07, ...,\n",
       "          8.04316711e+01,  7.68108597e+01,  2.50000000e+01],\n",
       "        [ 5.64568639e-01,  6.71381235e-01,  1.60006522e-07, ...,\n",
       "          8.05369720e+01,  7.14305191e+01,  2.50000000e+01],\n",
       "        [ 5.66296756e-01,  6.61696315e-01,  1.24763176e-07, ...,\n",
       "          9.45230637e+01,  8.23941956e+01,  2.50000000e+01],\n",
       "        [ 5.63702226e-01,  6.44248724e-01,  1.35989794e-07, ...,\n",
       "          1.03464882e+02,  7.31977234e+01,  2.50000000e+01]],\n",
       "\n",
       "       [[ 5.57160497e-01,  6.27088904e-01,  1.01039518e-07, ...,\n",
       "          9.66014328e+01,  7.61336899e+01,  2.50000000e+01],\n",
       "        [ 5.44303179e-01,  6.10336244e-01,  1.26207937e-07, ...,\n",
       "          9.88563995e+01,  7.14594879e+01,  2.50000000e+01],\n",
       "        [ 5.30831158e-01,  5.98323762e-01,  6.59297115e-08, ...,\n",
       "          8.62701645e+01,  7.02536011e+01,  2.50000000e+01],\n",
       "        [ 5.11605561e-01,  5.88007331e-01,  4.86525948e-08, ...,\n",
       "          9.34375839e+01,  6.61197357e+01,  2.50000000e+01],\n",
       "        [ 4.92967993e-01,  5.76716006e-01,  2.57755897e-08, ...,\n",
       "          7.81800766e+01,  7.35026855e+01,  2.50000000e+01]],\n",
       "\n",
       "       [[ 4.71457273e-01,  5.66983104e-01,  2.60980482e-08, ...,\n",
       "          7.15037537e+01,  6.26586494e+01,  2.50000000e+01],\n",
       "        [ 4.45758879e-01,  5.62049508e-01, -1.69209343e-07, ...,\n",
       "          7.62824020e+01,  5.73258743e+01,  2.50000000e+01],\n",
       "        [ 4.25824285e-01,  5.58269978e-01, -2.55011173e-07, ...,\n",
       "          1.33968567e+02,  3.41124420e+01,  2.50000000e+01],\n",
       "        [ 3.51784527e-01,  5.55877507e-01, -2.39166098e-07, ...,\n",
       "          5.48895607e+01,  5.61123695e+01,  2.50000000e+01],\n",
       "        [ 3.28394920e-01,  5.52350760e-01, -1.67911338e-07, ...,\n",
       "          7.45013351e+01,  4.36664772e+01,  2.50000000e+01]]],\n",
       "      dtype=float32)"
      ]
     },
     "execution_count": 11,
     "metadata": {},
     "output_type": "execute_result"
    }
   ],
   "source": [
    "all_data_lstm"
   ]
  },
  {
   "cell_type": "code",
   "execution_count": 12,
   "id": "b84914aa-2181-4db8-ac49-f918f1eefb65",
   "metadata": {},
   "outputs": [
    {
     "data": {
      "text/plain": [
       "array([[[ 5.41418791e-01,  1.02469242e+00, -3.78588965e-07, ...,\n",
       "          6.71573944e+01,  1.22927895e+02,  1.81128502e+01],\n",
       "        [ 5.29943705e-01,  9.76406217e-01, -2.16568893e-07, ...,\n",
       "          4.95336838e+01,  1.36588150e+02,  2.46361294e+01],\n",
       "        [ 5.31997859e-01,  8.75668526e-01, -4.60569282e-07, ...,\n",
       "          5.05685997e+01,  1.38435745e+02,  3.49805565e+01],\n",
       "        [ 5.21186888e-01,  9.12965715e-01, -2.08773315e-07, ...,\n",
       "          4.71363258e+01,  1.38044907e+02,  2.90323753e+01],\n",
       "        [ 5.16700745e-01,  8.47322404e-01, -1.90984224e-07, ...,\n",
       "          5.43572235e+01,  1.29887085e+02,  4.26585541e+01]],\n",
       "\n",
       "       [[ 5.09839475e-01,  7.80641973e-01, -3.14486044e-07, ...,\n",
       "          4.05515556e+01,  1.44458435e+02,  3.14400883e+01],\n",
       "        [ 4.99299496e-01,  7.06157029e-01, -3.56293327e-07, ...,\n",
       "          4.23999596e+01,  1.47486847e+02,  3.77945175e+01],\n",
       "        [ 4.78329301e-01,  6.43304110e-01, -4.07905816e-07, ...,\n",
       "          4.10099754e+01,  1.50739685e+02,  4.42455292e+01],\n",
       "        [ 4.57055092e-01,  5.73407650e-01, -1.03132254e-06, ...,\n",
       "          3.56823158e+01,  1.56247849e+02,  4.46738777e+01],\n",
       "        [ 4.64873880e-01,  5.72004199e-01, -2.47061820e-07, ...,\n",
       "          3.63013039e+01,  1.58108917e+02,  5.24464493e+01]],\n",
       "\n",
       "       [[ 4.95789707e-01,  5.38593411e-01, -5.15826287e-07, ...,\n",
       "          4.01260757e+01,  1.54024734e+02,  4.70948715e+01],\n",
       "        [ 5.22094905e-01,  5.25044739e-01, -6.60063336e-07, ...,\n",
       "          4.57325020e+01,  1.46092392e+02,  4.46491547e+01],\n",
       "        [ 5.30080140e-01,  5.15589476e-01, -7.43790054e-07, ...,\n",
       "          4.45151939e+01,  1.48815079e+02,  4.30120735e+01],\n",
       "        [ 5.14584780e-01,  5.24467111e-01, -8.94737639e-07, ...,\n",
       "          5.09601822e+01,  1.41297989e+02,  4.83709984e+01],\n",
       "        [ 5.00358760e-01,  5.41147172e-01, -8.94673803e-07, ...,\n",
       "          4.81818161e+01,  1.43242386e+02,  5.14430237e+01]],\n",
       "\n",
       "       ...,\n",
       "\n",
       "       [[ 5.58168769e-01,  6.81025803e-01,  1.53449861e-07, ...,\n",
       "          9.72486496e+01,  7.79803848e+01,  6.81266403e+01],\n",
       "        [ 5.61655045e-01,  6.77811801e-01,  1.44634313e-07, ...,\n",
       "          9.53291855e+01,  8.04316711e+01,  7.68108597e+01],\n",
       "        [ 5.64568639e-01,  6.71381235e-01,  1.60006522e-07, ...,\n",
       "          9.10290985e+01,  8.05369720e+01,  7.14305191e+01],\n",
       "        [ 5.66296756e-01,  6.61696315e-01,  1.24763176e-07, ...,\n",
       "          7.65747757e+01,  9.45230637e+01,  8.23941956e+01],\n",
       "        [ 5.63702226e-01,  6.44248724e-01,  1.35989794e-07, ...,\n",
       "          7.10536346e+01,  1.03464882e+02,  7.31977234e+01]],\n",
       "\n",
       "       [[ 5.57160497e-01,  6.27088904e-01,  1.01039518e-07, ...,\n",
       "          8.14354706e+01,  9.66014328e+01,  7.61336899e+01],\n",
       "        [ 5.44303179e-01,  6.10336244e-01,  1.26207937e-07, ...,\n",
       "          6.70044327e+01,  9.88563995e+01,  7.14594879e+01],\n",
       "        [ 5.30831158e-01,  5.98323762e-01,  6.59297115e-08, ...,\n",
       "          9.26203232e+01,  8.62701645e+01,  7.02536011e+01],\n",
       "        [ 5.11605561e-01,  5.88007331e-01,  4.86525948e-08, ...,\n",
       "          8.74040985e+01,  9.34375839e+01,  6.61197357e+01],\n",
       "        [ 4.92967993e-01,  5.76716006e-01,  2.57755897e-08, ...,\n",
       "          1.02640167e+02,  7.81800766e+01,  7.35026855e+01]],\n",
       "\n",
       "       [[ 4.71457273e-01,  5.66983104e-01,  2.60980482e-08, ...,\n",
       "          1.12669838e+02,  7.15037537e+01,  6.26586494e+01],\n",
       "        [ 4.45758879e-01,  5.62049508e-01, -1.69209343e-07, ...,\n",
       "          1.08736488e+02,  7.62824020e+01,  5.73258743e+01],\n",
       "        [ 4.25824285e-01,  5.58269978e-01, -2.55011173e-07, ...,\n",
       "          3.98740540e+01,  1.33968567e+02,  3.41124420e+01],\n",
       "        [ 3.51784527e-01,  5.55877507e-01, -2.39166098e-07, ...,\n",
       "          1.26519157e+02,  5.48895607e+01,  5.61123695e+01],\n",
       "        [ 3.28394920e-01,  5.52350760e-01, -1.67911338e-07, ...,\n",
       "          1.07732643e+02,  7.45013351e+01,  4.36664772e+01]]],\n",
       "      dtype=float32)"
      ]
     },
     "execution_count": 12,
     "metadata": {},
     "output_type": "execute_result"
    }
   ],
   "source": [
    "X_data = all_data_lstm[:,:,:-1]\n",
    "X_data"
   ]
  },
  {
   "cell_type": "code",
   "execution_count": 13,
   "id": "cab142c5-d316-4e4f-883d-663d3c67ec77",
   "metadata": {},
   "outputs": [
    {
     "data": {
      "text/plain": [
       "array([ 0.,  0.,  0., ..., 25., 25., 25.], dtype=float32)"
      ]
     },
     "execution_count": 13,
     "metadata": {},
     "output_type": "execute_result"
    }
   ],
   "source": [
    "labels = all_data_lstm[:,0,-1]\n",
    "labels"
   ]
  },
  {
   "cell_type": "code",
   "execution_count": 14,
   "id": "ab7cfc3c-0465-4d7f-8b89-1822e9a0f262",
   "metadata": {},
   "outputs": [
    {
     "data": {
      "text/plain": [
       "array([[1., 0., 0., ..., 0., 0., 0.],\n",
       "       [1., 0., 0., ..., 0., 0., 0.],\n",
       "       [1., 0., 0., ..., 0., 0., 0.],\n",
       "       ...,\n",
       "       [0., 0., 0., ..., 0., 0., 1.],\n",
       "       [0., 0., 0., ..., 0., 0., 1.],\n",
       "       [0., 0., 0., ..., 0., 0., 1.]], dtype=float32)"
      ]
     },
     "execution_count": 14,
     "metadata": {},
     "output_type": "execute_result"
    }
   ],
   "source": [
    "y_data = to_categorical(labels, num_classes=len(gesture))\n",
    "y_data"
   ]
  },
  {
   "cell_type": "code",
   "execution_count": 15,
   "id": "b3222c25-9dc7-4e9c-968e-1ec53a06941f",
   "metadata": {},
   "outputs": [],
   "source": [
    "X_train, X_test, y_train, y_test = train_test_split(X_data, y_data, test_size=0.1)"
   ]
  },
  {
   "cell_type": "code",
   "execution_count": 16,
   "id": "2acb0737-94a8-4484-89e1-4bfc6f0f507f",
   "metadata": {},
   "outputs": [
    {
     "data": {
      "text/plain": [
       "array([[[ 3.50144982e-01,  4.87253100e-01,  3.83207038e-07, ...,\n",
       "          7.56301117e+01,  1.03068947e+02,  3.93568497e+01],\n",
       "        [ 3.49568665e-01,  4.85488445e-01,  3.96620436e-07, ...,\n",
       "          7.51000671e+01,  1.04647827e+02,  3.78023567e+01],\n",
       "        [ 3.50497246e-01,  4.81397152e-01,  3.86581917e-07, ...,\n",
       "          7.34377289e+01,  1.08455070e+02,  3.70455093e+01],\n",
       "        [ 3.51881772e-01,  4.76782203e-01,  3.85664606e-07, ...,\n",
       "          7.24714432e+01,  1.08864044e+02,  3.52421494e+01],\n",
       "        [ 3.53380084e-01,  4.72297519e-01,  3.92672945e-07, ...,\n",
       "          7.24402008e+01,  1.08616631e+02,  3.54163437e+01]],\n",
       "\n",
       "       [[ 5.37803054e-01,  2.43699700e-01, -1.36300145e-07, ...,\n",
       "          7.45323639e+01,  1.03060890e+02,  4.18752594e+01],\n",
       "        [ 5.25551438e-01,  2.41416842e-01, -2.35503748e-07, ...,\n",
       "          7.49234619e+01,  1.12685921e+02,  4.31774673e+01],\n",
       "        [ 5.18062949e-01,  2.32874900e-01, -2.25847714e-08, ...,\n",
       "          6.92187653e+01,  1.16656166e+02,  3.77804947e+01],\n",
       "        [ 5.07987082e-01,  2.29988962e-01,  3.54801273e-08, ...,\n",
       "          7.10206375e+01,  1.11363014e+02,  4.25033188e+01],\n",
       "        [ 4.99029040e-01,  2.28764966e-01,  4.83386486e-08, ...,\n",
       "          7.17278519e+01,  1.11980309e+02,  4.34025497e+01]],\n",
       "\n",
       "       [[ 3.85142714e-01,  5.04866362e-01,  8.84786644e-09, ...,\n",
       "          4.87383194e+01,  1.17535355e+02,  4.32948303e+01],\n",
       "        [ 3.86516035e-01,  4.99362588e-01,  8.93431906e-09, ...,\n",
       "          4.92561684e+01,  1.18514877e+02,  4.10278778e+01],\n",
       "        [ 3.87517124e-01,  4.94901747e-01,  1.07919993e-08, ...,\n",
       "          4.91332779e+01,  1.22114861e+02,  3.90563965e+01],\n",
       "        [ 3.87787431e-01,  4.91613954e-01,  8.02197864e-09, ...,\n",
       "          4.76732254e+01,  1.21564995e+02,  3.72073364e+01],\n",
       "        [ 3.86973530e-01,  4.89100367e-01,  9.91337323e-09, ...,\n",
       "          4.90356445e+01,  1.18766609e+02,  3.42628746e+01]],\n",
       "\n",
       "       ...,\n",
       "\n",
       "       [[ 6.08266413e-01,  4.54124302e-01,  2.38476218e-07, ...,\n",
       "          8.82819366e+00,  6.98814821e+00,  7.01045930e-01],\n",
       "        [ 6.07904553e-01,  4.49708521e-01,  2.38005498e-07, ...,\n",
       "          7.45174646e+00,  6.50129747e+00,  1.05178499e+00],\n",
       "        [ 6.08023524e-01,  4.44693953e-01,  2.53418790e-07, ...,\n",
       "          8.25055885e+00,  6.49307632e+00,  1.86540651e+00],\n",
       "        [ 6.07379436e-01,  4.38327342e-01,  3.53367795e-07, ...,\n",
       "          7.36399603e+00,  3.64295459e+00,  2.61708665e+00],\n",
       "        [ 6.05531812e-01,  4.29304808e-01,  2.96804245e-07, ...,\n",
       "          7.37098312e+00,  2.07401562e+00,  3.96424603e+00]],\n",
       "\n",
       "       [[ 5.07880747e-01,  3.43943119e-01,  2.53314489e-08, ...,\n",
       "          1.24498825e+01,  7.80901241e+00,  3.92727542e+00],\n",
       "        [ 5.11456430e-01,  3.43570054e-01,  2.35066775e-08, ...,\n",
       "          1.18602791e+01,  7.26155710e+00,  3.78447008e+00],\n",
       "        [ 5.13870656e-01,  3.42548221e-01,  2.52613024e-08, ...,\n",
       "          1.33566380e+01,  6.75429296e+00,  3.90457225e+00],\n",
       "        [ 5.15638411e-01,  3.42205465e-01,  3.10746913e-08, ...,\n",
       "          1.27423372e+01,  6.19431543e+00,  3.12073970e+00],\n",
       "        [ 5.16944945e-01,  3.41708481e-01,  3.68342299e-08, ...,\n",
       "          1.18807192e+01,  6.73648834e+00,  2.76565886e+00]],\n",
       "\n",
       "       [[ 4.14105952e-01,  5.48189342e-01,  6.94535061e-08, ...,\n",
       "          1.25343132e+02,  5.28544044e+01,  1.24096817e+02],\n",
       "        [ 4.14381742e-01,  5.46016634e-01,  7.11769914e-08, ...,\n",
       "          1.24865959e+02,  6.14605865e+01,  1.15859657e+02],\n",
       "        [ 4.14055824e-01,  5.44030964e-01,  7.06692092e-08, ...,\n",
       "          1.25176918e+02,  4.98903618e+01,  1.25864998e+02],\n",
       "        [ 4.11326557e-01,  5.43996990e-01,  6.76533034e-08, ...,\n",
       "          1.25499664e+02,  4.09758759e+01,  1.32843475e+02],\n",
       "        [ 4.09352779e-01,  5.40661275e-01,  8.71690702e-08, ...,\n",
       "          1.25626419e+02,  4.71639519e+01,  1.27794067e+02]]],\n",
       "      dtype=float32)"
      ]
     },
     "execution_count": 16,
     "metadata": {},
     "output_type": "execute_result"
    }
   ],
   "source": [
    "X_train"
   ]
  },
  {
   "cell_type": "code",
   "execution_count": 17,
   "id": "d9cb2fb3-5d44-46ad-a6f3-2ee85c1f0a34",
   "metadata": {},
   "outputs": [
    {
     "data": {
      "text/plain": [
       "array([[0., 0., 0., 0., 0., 0., 0., 0., 0., 0., 1., 0., 0., 0., 0., 0.,\n",
       "        0., 0., 0., 0., 0., 0., 0., 0., 0., 0.],\n",
       "       [0., 0., 0., 0., 0., 0., 0., 0., 0., 0., 0., 0., 0., 0., 0., 0.,\n",
       "        1., 0., 0., 0., 0., 0., 0., 0., 0., 0.],\n",
       "       [0., 0., 0., 0., 0., 0., 1., 0., 0., 0., 0., 0., 0., 0., 0., 0.,\n",
       "        0., 0., 0., 0., 0., 0., 0., 0., 0., 0.],\n",
       "       [0., 0., 0., 0., 0., 0., 0., 0., 0., 0., 0., 1., 0., 0., 0., 0.,\n",
       "        0., 0., 0., 0., 0., 0., 0., 0., 0., 0.],\n",
       "       [0., 0., 0., 0., 0., 0., 0., 0., 1., 0., 0., 0., 0., 0., 0., 0.,\n",
       "        0., 0., 0., 0., 0., 0., 0., 0., 0., 0.]], dtype=float32)"
      ]
     },
     "execution_count": 17,
     "metadata": {},
     "output_type": "execute_result"
    }
   ],
   "source": [
    "y_train[0:5]"
   ]
  },
  {
   "cell_type": "code",
   "execution_count": 18,
   "id": "0ee8c58b-1c27-4b2f-b902-7ea129b6d56c",
   "metadata": {},
   "outputs": [],
   "source": [
    "model = Sequential()"
   ]
  },
  {
   "cell_type": "code",
   "execution_count": 19,
   "id": "2ca45a57-579c-4e88-89c7-a43211be7f75",
   "metadata": {},
   "outputs": [],
   "source": [
    "model.add(LSTM(256, input_shape=(5, 78)))"
   ]
  },
  {
   "cell_type": "code",
   "execution_count": 20,
   "id": "fc2d4d20-7570-4c89-b18e-a015d0f30e63",
   "metadata": {},
   "outputs": [],
   "source": [
    "model.add(Flatten())"
   ]
  },
  {
   "cell_type": "code",
   "execution_count": 21,
   "id": "6ab1cdfc-00cf-4025-a4ac-4716279f8ea6",
   "metadata": {},
   "outputs": [],
   "source": [
    "model.add(Dense(128, activation=\"relu\"))"
   ]
  },
  {
   "cell_type": "code",
   "execution_count": 22,
   "id": "24eb5305-7e33-4d5a-b702-258aea513883",
   "metadata": {},
   "outputs": [],
   "source": [
    "model.add(Dropout(0.5))"
   ]
  },
  {
   "cell_type": "code",
   "execution_count": 23,
   "id": "592d8493-1763-4ae7-9e13-6ba9b956af88",
   "metadata": {},
   "outputs": [],
   "source": [
    "model.add(Dense(64, activation='relu'))"
   ]
  },
  {
   "cell_type": "code",
   "execution_count": 24,
   "id": "d4090f1e-828c-43f3-987b-c73d8dbf2590",
   "metadata": {},
   "outputs": [],
   "source": [
    "model.add(Dropout(0.5))"
   ]
  },
  {
   "cell_type": "code",
   "execution_count": 25,
   "id": "b2dcf781-5320-460d-a5c9-d9d8952b09d8",
   "metadata": {},
   "outputs": [],
   "source": [
    "model.add(Dense(32, activation='relu'))"
   ]
  },
  {
   "cell_type": "code",
   "execution_count": 26,
   "id": "e372d12f-6524-4e5d-982b-52a416d8c365",
   "metadata": {},
   "outputs": [],
   "source": [
    "model.add(Dropout(0.5))"
   ]
  },
  {
   "cell_type": "code",
   "execution_count": 27,
   "id": "e72eb9a0-e717-4554-b475-f2648e2a795a",
   "metadata": {},
   "outputs": [],
   "source": [
    "model.add(Dense(len(gesture), activation='softmax'))"
   ]
  },
  {
   "cell_type": "code",
   "execution_count": 28,
   "id": "e1603c6f-c1cc-4414-a429-594a3973d8ec",
   "metadata": {},
   "outputs": [],
   "source": [
    "model.compile(optimizer=Adam(learning_rate=0.0001), loss='categorical_crossentropy', metrics=['acc'])"
   ]
  },
  {
   "cell_type": "code",
   "execution_count": 29,
   "id": "131f2bca-9d89-4475-9665-f89a08e01588",
   "metadata": {},
   "outputs": [],
   "source": [
    "cb_checkpoint = ModelCheckpoint(filepath=\"c://ai_project01/hand_lstm_train_result/\", monitor='val_acc', save_best_only=True)"
   ]
  },
  {
   "cell_type": "code",
   "execution_count": 30,
   "id": "4e865b23-1d75-4a81-8775-b1395f34a8c4",
   "metadata": {},
   "outputs": [],
   "source": [
    "earlystopping = EarlyStopping(monitor='val_loss', patience=30)"
   ]
  },
  {
   "cell_type": "code",
   "execution_count": 31,
   "id": "83144188-3607-4f86-8216-755d3091e631",
   "metadata": {},
   "outputs": [
    {
     "name": "stdout",
     "output_type": "stream",
     "text": [
      "Epoch 1/300\n",
      "167/167 [==============================] - ETA: 0s - loss: 3.2875 - acc: 0.0493"
     ]
    },
    {
     "name": "stderr",
     "output_type": "stream",
     "text": [
      "WARNING:absl:Found untraced functions such as lstm_cell_layer_call_fn, lstm_cell_layer_call_and_return_conditional_losses while saving (showing 2 of 2). These functions will not be directly callable after loading.\n"
     ]
    },
    {
     "name": "stdout",
     "output_type": "stream",
     "text": [
      "INFO:tensorflow:Assets written to: c://ai_project01/hand_lstm_train_result\\/assets\n"
     ]
    },
    {
     "name": "stderr",
     "output_type": "stream",
     "text": [
      "INFO:tensorflow:Assets written to: c://ai_project01/hand_lstm_train_result\\/assets\n"
     ]
    },
    {
     "name": "stdout",
     "output_type": "stream",
     "text": [
      "167/167 [==============================] - 5s 21ms/step - loss: 3.2875 - acc: 0.0493 - val_loss: 3.1467 - val_acc: 0.2192\n",
      "Epoch 2/300\n",
      "164/167 [============================>.] - ETA: 0s - loss: 3.1515 - acc: 0.0796"
     ]
    },
    {
     "name": "stderr",
     "output_type": "stream",
     "text": [
      "WARNING:absl:Found untraced functions such as lstm_cell_layer_call_fn, lstm_cell_layer_call_and_return_conditional_losses while saving (showing 2 of 2). These functions will not be directly callable after loading.\n"
     ]
    },
    {
     "name": "stdout",
     "output_type": "stream",
     "text": [
      "INFO:tensorflow:Assets written to: c://ai_project01/hand_lstm_train_result\\/assets\n"
     ]
    },
    {
     "name": "stderr",
     "output_type": "stream",
     "text": [
      "INFO:tensorflow:Assets written to: c://ai_project01/hand_lstm_train_result\\/assets\n"
     ]
    },
    {
     "name": "stdout",
     "output_type": "stream",
     "text": [
      "167/167 [==============================] - 4s 21ms/step - loss: 3.1518 - acc: 0.0791 - val_loss: 3.0013 - val_acc: 0.2766\n",
      "Epoch 3/300\n",
      "163/167 [============================>.] - ETA: 0s - loss: 3.0422 - acc: 0.1079"
     ]
    },
    {
     "name": "stderr",
     "output_type": "stream",
     "text": [
      "WARNING:absl:Found untraced functions such as lstm_cell_layer_call_fn, lstm_cell_layer_call_and_return_conditional_losses while saving (showing 2 of 2). These functions will not be directly callable after loading.\n"
     ]
    },
    {
     "name": "stdout",
     "output_type": "stream",
     "text": [
      "INFO:tensorflow:Assets written to: c://ai_project01/hand_lstm_train_result\\/assets\n"
     ]
    },
    {
     "name": "stderr",
     "output_type": "stream",
     "text": [
      "INFO:tensorflow:Assets written to: c://ai_project01/hand_lstm_train_result\\/assets\n"
     ]
    },
    {
     "name": "stdout",
     "output_type": "stream",
     "text": [
      "167/167 [==============================] - 4s 23ms/step - loss: 3.0416 - acc: 0.1089 - val_loss: 2.8355 - val_acc: 0.3373\n",
      "Epoch 4/300\n",
      "164/167 [============================>.] - ETA: 0s - loss: 2.9484 - acc: 0.1279"
     ]
    },
    {
     "name": "stderr",
     "output_type": "stream",
     "text": [
      "WARNING:absl:Found untraced functions such as lstm_cell_layer_call_fn, lstm_cell_layer_call_and_return_conditional_losses while saving (showing 2 of 2). These functions will not be directly callable after loading.\n"
     ]
    },
    {
     "name": "stdout",
     "output_type": "stream",
     "text": [
      "INFO:tensorflow:Assets written to: c://ai_project01/hand_lstm_train_result\\/assets\n"
     ]
    },
    {
     "name": "stderr",
     "output_type": "stream",
     "text": [
      "INFO:tensorflow:Assets written to: c://ai_project01/hand_lstm_train_result\\/assets\n"
     ]
    },
    {
     "name": "stdout",
     "output_type": "stream",
     "text": [
      "167/167 [==============================] - 4s 22ms/step - loss: 2.9471 - acc: 0.1280 - val_loss: 2.6859 - val_acc: 0.3524\n",
      "Epoch 5/300\n",
      "164/167 [============================>.] - ETA: 0s - loss: 2.8578 - acc: 0.1553"
     ]
    },
    {
     "name": "stderr",
     "output_type": "stream",
     "text": [
      "WARNING:absl:Found untraced functions such as lstm_cell_layer_call_fn, lstm_cell_layer_call_and_return_conditional_losses while saving (showing 2 of 2). These functions will not be directly callable after loading.\n"
     ]
    },
    {
     "name": "stdout",
     "output_type": "stream",
     "text": [
      "INFO:tensorflow:Assets written to: c://ai_project01/hand_lstm_train_result\\/assets\n"
     ]
    },
    {
     "name": "stderr",
     "output_type": "stream",
     "text": [
      "INFO:tensorflow:Assets written to: c://ai_project01/hand_lstm_train_result\\/assets\n"
     ]
    },
    {
     "name": "stdout",
     "output_type": "stream",
     "text": [
      "167/167 [==============================] - 4s 22ms/step - loss: 2.8586 - acc: 0.1552 - val_loss: 2.5462 - val_acc: 0.3659\n",
      "Epoch 6/300\n",
      "165/167 [============================>.] - ETA: 0s - loss: 2.7739 - acc: 0.1684"
     ]
    },
    {
     "name": "stderr",
     "output_type": "stream",
     "text": [
      "WARNING:absl:Found untraced functions such as lstm_cell_layer_call_fn, lstm_cell_layer_call_and_return_conditional_losses while saving (showing 2 of 2). These functions will not be directly callable after loading.\n"
     ]
    },
    {
     "name": "stdout",
     "output_type": "stream",
     "text": [
      "INFO:tensorflow:Assets written to: c://ai_project01/hand_lstm_train_result\\/assets\n"
     ]
    },
    {
     "name": "stderr",
     "output_type": "stream",
     "text": [
      "INFO:tensorflow:Assets written to: c://ai_project01/hand_lstm_train_result\\/assets\n"
     ]
    },
    {
     "name": "stdout",
     "output_type": "stream",
     "text": [
      "167/167 [==============================] - 4s 22ms/step - loss: 2.7728 - acc: 0.1691 - val_loss: 2.4261 - val_acc: 0.4013\n",
      "Epoch 7/300\n",
      "163/167 [============================>.] - ETA: 0s - loss: 2.6698 - acc: 0.1996"
     ]
    },
    {
     "name": "stderr",
     "output_type": "stream",
     "text": [
      "WARNING:absl:Found untraced functions such as lstm_cell_layer_call_fn, lstm_cell_layer_call_and_return_conditional_losses while saving (showing 2 of 2). These functions will not be directly callable after loading.\n"
     ]
    },
    {
     "name": "stdout",
     "output_type": "stream",
     "text": [
      "INFO:tensorflow:Assets written to: c://ai_project01/hand_lstm_train_result\\/assets\n"
     ]
    },
    {
     "name": "stderr",
     "output_type": "stream",
     "text": [
      "INFO:tensorflow:Assets written to: c://ai_project01/hand_lstm_train_result\\/assets\n"
     ]
    },
    {
     "name": "stdout",
     "output_type": "stream",
     "text": [
      "167/167 [==============================] - 4s 21ms/step - loss: 2.6682 - acc: 0.2002 - val_loss: 2.2924 - val_acc: 0.4283\n",
      "Epoch 8/300\n",
      "166/167 [============================>.] - ETA: 0s - loss: 2.5425 - acc: 0.2348"
     ]
    },
    {
     "name": "stderr",
     "output_type": "stream",
     "text": [
      "WARNING:absl:Found untraced functions such as lstm_cell_layer_call_fn, lstm_cell_layer_call_and_return_conditional_losses while saving (showing 2 of 2). These functions will not be directly callable after loading.\n"
     ]
    },
    {
     "name": "stdout",
     "output_type": "stream",
     "text": [
      "INFO:tensorflow:Assets written to: c://ai_project01/hand_lstm_train_result\\/assets\n"
     ]
    },
    {
     "name": "stderr",
     "output_type": "stream",
     "text": [
      "INFO:tensorflow:Assets written to: c://ai_project01/hand_lstm_train_result\\/assets\n"
     ]
    },
    {
     "name": "stdout",
     "output_type": "stream",
     "text": [
      "167/167 [==============================] - 4s 22ms/step - loss: 2.5415 - acc: 0.2349 - val_loss: 2.1379 - val_acc: 0.4941\n",
      "Epoch 9/300\n",
      "167/167 [==============================] - 1s 6ms/step - loss: 2.4959 - acc: 0.2384 - val_loss: 2.0236 - val_acc: 0.4823\n",
      "Epoch 10/300\n",
      "157/167 [===========================>..] - ETA: 0s - loss: 2.3958 - acc: 0.2625"
     ]
    },
    {
     "name": "stderr",
     "output_type": "stream",
     "text": [
      "WARNING:absl:Found untraced functions such as lstm_cell_layer_call_fn, lstm_cell_layer_call_and_return_conditional_losses while saving (showing 2 of 2). These functions will not be directly callable after loading.\n"
     ]
    },
    {
     "name": "stdout",
     "output_type": "stream",
     "text": [
      "INFO:tensorflow:Assets written to: c://ai_project01/hand_lstm_train_result\\/assets\n"
     ]
    },
    {
     "name": "stderr",
     "output_type": "stream",
     "text": [
      "INFO:tensorflow:Assets written to: c://ai_project01/hand_lstm_train_result\\/assets\n"
     ]
    },
    {
     "name": "stdout",
     "output_type": "stream",
     "text": [
      "167/167 [==============================] - 3s 18ms/step - loss: 2.4012 - acc: 0.2609 - val_loss: 1.8912 - val_acc: 0.5363\n",
      "Epoch 11/300\n",
      "164/167 [============================>.] - ETA: 0s - loss: 2.3284 - acc: 0.2795"
     ]
    },
    {
     "name": "stderr",
     "output_type": "stream",
     "text": [
      "WARNING:absl:Found untraced functions such as lstm_cell_layer_call_fn, lstm_cell_layer_call_and_return_conditional_losses while saving (showing 2 of 2). These functions will not be directly callable after loading.\n"
     ]
    },
    {
     "name": "stdout",
     "output_type": "stream",
     "text": [
      "INFO:tensorflow:Assets written to: c://ai_project01/hand_lstm_train_result\\/assets\n"
     ]
    },
    {
     "name": "stderr",
     "output_type": "stream",
     "text": [
      "INFO:tensorflow:Assets written to: c://ai_project01/hand_lstm_train_result\\/assets\n"
     ]
    },
    {
     "name": "stdout",
     "output_type": "stream",
     "text": [
      "167/167 [==============================] - 4s 21ms/step - loss: 2.3319 - acc: 0.2789 - val_loss: 1.7834 - val_acc: 0.5852\n",
      "Epoch 12/300\n",
      "167/167 [==============================] - 1s 9ms/step - loss: 2.2489 - acc: 0.3027 - val_loss: 1.6671 - val_acc: 0.5852\n",
      "Epoch 13/300\n",
      "161/167 [===========================>..] - ETA: 0s - loss: 2.1823 - acc: 0.3177"
     ]
    },
    {
     "name": "stderr",
     "output_type": "stream",
     "text": [
      "WARNING:absl:Found untraced functions such as lstm_cell_layer_call_fn, lstm_cell_layer_call_and_return_conditional_losses while saving (showing 2 of 2). These functions will not be directly callable after loading.\n"
     ]
    },
    {
     "name": "stdout",
     "output_type": "stream",
     "text": [
      "INFO:tensorflow:Assets written to: c://ai_project01/hand_lstm_train_result\\/assets\n"
     ]
    },
    {
     "name": "stderr",
     "output_type": "stream",
     "text": [
      "INFO:tensorflow:Assets written to: c://ai_project01/hand_lstm_train_result\\/assets\n"
     ]
    },
    {
     "name": "stdout",
     "output_type": "stream",
     "text": [
      "167/167 [==============================] - 4s 22ms/step - loss: 2.1859 - acc: 0.3157 - val_loss: 1.5797 - val_acc: 0.6206\n",
      "Epoch 14/300\n",
      "164/167 [============================>.] - ETA: 0s - loss: 2.1108 - acc: 0.3277"
     ]
    },
    {
     "name": "stderr",
     "output_type": "stream",
     "text": [
      "WARNING:absl:Found untraced functions such as lstm_cell_layer_call_fn, lstm_cell_layer_call_and_return_conditional_losses while saving (showing 2 of 2). These functions will not be directly callable after loading.\n"
     ]
    },
    {
     "name": "stdout",
     "output_type": "stream",
     "text": [
      "INFO:tensorflow:Assets written to: c://ai_project01/hand_lstm_train_result\\/assets\n"
     ]
    },
    {
     "name": "stderr",
     "output_type": "stream",
     "text": [
      "INFO:tensorflow:Assets written to: c://ai_project01/hand_lstm_train_result\\/assets\n"
     ]
    },
    {
     "name": "stdout",
     "output_type": "stream",
     "text": [
      "167/167 [==============================] - 4s 22ms/step - loss: 2.1094 - acc: 0.3286 - val_loss: 1.4678 - val_acc: 0.6307\n",
      "Epoch 15/300\n",
      "167/167 [==============================] - ETA: 0s - loss: 2.0345 - acc: 0.3511"
     ]
    },
    {
     "name": "stderr",
     "output_type": "stream",
     "text": [
      "WARNING:absl:Found untraced functions such as lstm_cell_layer_call_fn, lstm_cell_layer_call_and_return_conditional_losses while saving (showing 2 of 2). These functions will not be directly callable after loading.\n"
     ]
    },
    {
     "name": "stdout",
     "output_type": "stream",
     "text": [
      "INFO:tensorflow:Assets written to: c://ai_project01/hand_lstm_train_result\\/assets\n"
     ]
    },
    {
     "name": "stderr",
     "output_type": "stream",
     "text": [
      "INFO:tensorflow:Assets written to: c://ai_project01/hand_lstm_train_result\\/assets\n"
     ]
    },
    {
     "name": "stdout",
     "output_type": "stream",
     "text": [
      "167/167 [==============================] - 4s 21ms/step - loss: 2.0345 - acc: 0.3511 - val_loss: 1.3806 - val_acc: 0.6712\n",
      "Epoch 16/300\n",
      "161/167 [===========================>..] - ETA: 0s - loss: 1.9925 - acc: 0.3663"
     ]
    },
    {
     "name": "stderr",
     "output_type": "stream",
     "text": [
      "WARNING:absl:Found untraced functions such as lstm_cell_layer_call_fn, lstm_cell_layer_call_and_return_conditional_losses while saving (showing 2 of 2). These functions will not be directly callable after loading.\n"
     ]
    },
    {
     "name": "stdout",
     "output_type": "stream",
     "text": [
      "INFO:tensorflow:Assets written to: c://ai_project01/hand_lstm_train_result\\/assets\n"
     ]
    },
    {
     "name": "stderr",
     "output_type": "stream",
     "text": [
      "INFO:tensorflow:Assets written to: c://ai_project01/hand_lstm_train_result\\/assets\n"
     ]
    },
    {
     "name": "stdout",
     "output_type": "stream",
     "text": [
      "167/167 [==============================] - 4s 23ms/step - loss: 1.9958 - acc: 0.3644 - val_loss: 1.3126 - val_acc: 0.6745\n",
      "Epoch 17/300\n",
      "166/167 [============================>.] - ETA: 0s - loss: 1.9336 - acc: 0.3773"
     ]
    },
    {
     "name": "stderr",
     "output_type": "stream",
     "text": [
      "WARNING:absl:Found untraced functions such as lstm_cell_layer_call_fn, lstm_cell_layer_call_and_return_conditional_losses while saving (showing 2 of 2). These functions will not be directly callable after loading.\n"
     ]
    },
    {
     "name": "stdout",
     "output_type": "stream",
     "text": [
      "INFO:tensorflow:Assets written to: c://ai_project01/hand_lstm_train_result\\/assets\n"
     ]
    },
    {
     "name": "stderr",
     "output_type": "stream",
     "text": [
      "INFO:tensorflow:Assets written to: c://ai_project01/hand_lstm_train_result\\/assets\n"
     ]
    },
    {
     "name": "stdout",
     "output_type": "stream",
     "text": [
      "167/167 [==============================] - 4s 22ms/step - loss: 1.9321 - acc: 0.3781 - val_loss: 1.2587 - val_acc: 0.6813\n",
      "Epoch 18/300\n",
      "165/167 [============================>.] - ETA: 0s - loss: 1.8689 - acc: 0.3888"
     ]
    },
    {
     "name": "stderr",
     "output_type": "stream",
     "text": [
      "WARNING:absl:Found untraced functions such as lstm_cell_layer_call_fn, lstm_cell_layer_call_and_return_conditional_losses while saving (showing 2 of 2). These functions will not be directly callable after loading.\n"
     ]
    },
    {
     "name": "stdout",
     "output_type": "stream",
     "text": [
      "INFO:tensorflow:Assets written to: c://ai_project01/hand_lstm_train_result\\/assets\n"
     ]
    },
    {
     "name": "stderr",
     "output_type": "stream",
     "text": [
      "INFO:tensorflow:Assets written to: c://ai_project01/hand_lstm_train_result\\/assets\n"
     ]
    },
    {
     "name": "stdout",
     "output_type": "stream",
     "text": [
      "167/167 [==============================] - 4s 22ms/step - loss: 1.8705 - acc: 0.3886 - val_loss: 1.1706 - val_acc: 0.7167\n",
      "Epoch 19/300\n",
      "167/167 [==============================] - ETA: 0s - loss: 1.8310 - acc: 0.3927"
     ]
    },
    {
     "name": "stderr",
     "output_type": "stream",
     "text": [
      "WARNING:absl:Found untraced functions such as lstm_cell_layer_call_fn, lstm_cell_layer_call_and_return_conditional_losses while saving (showing 2 of 2). These functions will not be directly callable after loading.\n"
     ]
    },
    {
     "name": "stdout",
     "output_type": "stream",
     "text": [
      "INFO:tensorflow:Assets written to: c://ai_project01/hand_lstm_train_result\\/assets\n"
     ]
    },
    {
     "name": "stderr",
     "output_type": "stream",
     "text": [
      "INFO:tensorflow:Assets written to: c://ai_project01/hand_lstm_train_result\\/assets\n"
     ]
    },
    {
     "name": "stdout",
     "output_type": "stream",
     "text": [
      "167/167 [==============================] - 4s 22ms/step - loss: 1.8310 - acc: 0.3927 - val_loss: 1.1309 - val_acc: 0.7251\n",
      "Epoch 20/300\n",
      "163/167 [============================>.] - ETA: 0s - loss: 1.8056 - acc: 0.4045"
     ]
    },
    {
     "name": "stderr",
     "output_type": "stream",
     "text": [
      "WARNING:absl:Found untraced functions such as lstm_cell_layer_call_fn, lstm_cell_layer_call_and_return_conditional_losses while saving (showing 2 of 2). These functions will not be directly callable after loading.\n"
     ]
    },
    {
     "name": "stdout",
     "output_type": "stream",
     "text": [
      "INFO:tensorflow:Assets written to: c://ai_project01/hand_lstm_train_result\\/assets\n"
     ]
    },
    {
     "name": "stderr",
     "output_type": "stream",
     "text": [
      "INFO:tensorflow:Assets written to: c://ai_project01/hand_lstm_train_result\\/assets\n"
     ]
    },
    {
     "name": "stdout",
     "output_type": "stream",
     "text": [
      "167/167 [==============================] - 4s 22ms/step - loss: 1.8017 - acc: 0.4054 - val_loss: 1.0782 - val_acc: 0.7605\n",
      "Epoch 21/300\n",
      "166/167 [============================>.] - ETA: 0s - loss: 1.7276 - acc: 0.4198"
     ]
    },
    {
     "name": "stderr",
     "output_type": "stream",
     "text": [
      "WARNING:absl:Found untraced functions such as lstm_cell_layer_call_fn, lstm_cell_layer_call_and_return_conditional_losses while saving (showing 2 of 2). These functions will not be directly callable after loading.\n"
     ]
    },
    {
     "name": "stdout",
     "output_type": "stream",
     "text": [
      "INFO:tensorflow:Assets written to: c://ai_project01/hand_lstm_train_result\\/assets\n"
     ]
    },
    {
     "name": "stderr",
     "output_type": "stream",
     "text": [
      "INFO:tensorflow:Assets written to: c://ai_project01/hand_lstm_train_result\\/assets\n"
     ]
    },
    {
     "name": "stdout",
     "output_type": "stream",
     "text": [
      "167/167 [==============================] - 4s 21ms/step - loss: 1.7252 - acc: 0.4202 - val_loss: 1.0240 - val_acc: 0.7673\n",
      "Epoch 22/300\n",
      "165/167 [============================>.] - ETA: 0s - loss: 1.7198 - acc: 0.4299"
     ]
    },
    {
     "name": "stderr",
     "output_type": "stream",
     "text": [
      "WARNING:absl:Found untraced functions such as lstm_cell_layer_call_fn, lstm_cell_layer_call_and_return_conditional_losses while saving (showing 2 of 2). These functions will not be directly callable after loading.\n"
     ]
    },
    {
     "name": "stdout",
     "output_type": "stream",
     "text": [
      "INFO:tensorflow:Assets written to: c://ai_project01/hand_lstm_train_result\\/assets\n"
     ]
    },
    {
     "name": "stderr",
     "output_type": "stream",
     "text": [
      "INFO:tensorflow:Assets written to: c://ai_project01/hand_lstm_train_result\\/assets\n"
     ]
    },
    {
     "name": "stdout",
     "output_type": "stream",
     "text": [
      "167/167 [==============================] - 4s 23ms/step - loss: 1.7193 - acc: 0.4296 - val_loss: 0.9765 - val_acc: 0.7791\n",
      "Epoch 23/300\n",
      "160/167 [===========================>..] - ETA: 0s - loss: 1.6856 - acc: 0.4316"
     ]
    },
    {
     "name": "stderr",
     "output_type": "stream",
     "text": [
      "WARNING:absl:Found untraced functions such as lstm_cell_layer_call_fn, lstm_cell_layer_call_and_return_conditional_losses while saving (showing 2 of 2). These functions will not be directly callable after loading.\n"
     ]
    },
    {
     "name": "stdout",
     "output_type": "stream",
     "text": [
      "INFO:tensorflow:Assets written to: c://ai_project01/hand_lstm_train_result\\/assets\n"
     ]
    },
    {
     "name": "stderr",
     "output_type": "stream",
     "text": [
      "INFO:tensorflow:Assets written to: c://ai_project01/hand_lstm_train_result\\/assets\n"
     ]
    },
    {
     "name": "stdout",
     "output_type": "stream",
     "text": [
      "167/167 [==============================] - 4s 22ms/step - loss: 1.6894 - acc: 0.4306 - val_loss: 0.9469 - val_acc: 0.7841\n",
      "Epoch 24/300\n",
      "164/167 [============================>.] - ETA: 0s - loss: 1.6253 - acc: 0.4533"
     ]
    },
    {
     "name": "stderr",
     "output_type": "stream",
     "text": [
      "WARNING:absl:Found untraced functions such as lstm_cell_layer_call_fn, lstm_cell_layer_call_and_return_conditional_losses while saving (showing 2 of 2). These functions will not be directly callable after loading.\n"
     ]
    },
    {
     "name": "stdout",
     "output_type": "stream",
     "text": [
      "INFO:tensorflow:Assets written to: c://ai_project01/hand_lstm_train_result\\/assets\n"
     ]
    },
    {
     "name": "stderr",
     "output_type": "stream",
     "text": [
      "INFO:tensorflow:Assets written to: c://ai_project01/hand_lstm_train_result\\/assets\n"
     ]
    },
    {
     "name": "stdout",
     "output_type": "stream",
     "text": [
      "167/167 [==============================] - 3s 21ms/step - loss: 1.6265 - acc: 0.4527 - val_loss: 0.9155 - val_acc: 0.7909\n",
      "Epoch 25/300\n",
      "165/167 [============================>.] - ETA: 0s - loss: 1.5894 - acc: 0.4665"
     ]
    },
    {
     "name": "stderr",
     "output_type": "stream",
     "text": [
      "WARNING:absl:Found untraced functions such as lstm_cell_layer_call_fn, lstm_cell_layer_call_and_return_conditional_losses while saving (showing 2 of 2). These functions will not be directly callable after loading.\n"
     ]
    },
    {
     "name": "stdout",
     "output_type": "stream",
     "text": [
      "INFO:tensorflow:Assets written to: c://ai_project01/hand_lstm_train_result\\/assets\n"
     ]
    },
    {
     "name": "stderr",
     "output_type": "stream",
     "text": [
      "INFO:tensorflow:Assets written to: c://ai_project01/hand_lstm_train_result\\/assets\n"
     ]
    },
    {
     "name": "stdout",
     "output_type": "stream",
     "text": [
      "167/167 [==============================] - 4s 22ms/step - loss: 1.5882 - acc: 0.4671 - val_loss: 0.8779 - val_acc: 0.7993\n",
      "Epoch 26/300\n",
      "167/167 [==============================] - 1s 9ms/step - loss: 1.5607 - acc: 0.4673 - val_loss: 0.8444 - val_acc: 0.7993\n",
      "Epoch 27/300\n",
      "167/167 [==============================] - 1s 8ms/step - loss: 1.5181 - acc: 0.4744 - val_loss: 0.8193 - val_acc: 0.7825\n",
      "Epoch 28/300\n",
      "165/167 [============================>.] - ETA: 0s - loss: 1.4838 - acc: 0.4852"
     ]
    },
    {
     "name": "stderr",
     "output_type": "stream",
     "text": [
      "WARNING:absl:Found untraced functions such as lstm_cell_layer_call_fn, lstm_cell_layer_call_and_return_conditional_losses while saving (showing 2 of 2). These functions will not be directly callable after loading.\n"
     ]
    },
    {
     "name": "stdout",
     "output_type": "stream",
     "text": [
      "INFO:tensorflow:Assets written to: c://ai_project01/hand_lstm_train_result\\/assets\n"
     ]
    },
    {
     "name": "stderr",
     "output_type": "stream",
     "text": [
      "INFO:tensorflow:Assets written to: c://ai_project01/hand_lstm_train_result\\/assets\n"
     ]
    },
    {
     "name": "stdout",
     "output_type": "stream",
     "text": [
      "167/167 [==============================] - 3s 21ms/step - loss: 1.4836 - acc: 0.4842 - val_loss: 0.7947 - val_acc: 0.8196\n",
      "Epoch 29/300\n",
      "167/167 [==============================] - 1s 8ms/step - loss: 1.4778 - acc: 0.4954 - val_loss: 0.7739 - val_acc: 0.7926\n",
      "Epoch 30/300\n",
      "167/167 [==============================] - 1s 8ms/step - loss: 1.4336 - acc: 0.4986 - val_loss: 0.7470 - val_acc: 0.8162\n",
      "Epoch 31/300\n",
      "167/167 [==============================] - 1s 8ms/step - loss: 1.4273 - acc: 0.5057 - val_loss: 0.7272 - val_acc: 0.8094\n",
      "Epoch 32/300\n",
      "167/167 [==============================] - 1s 8ms/step - loss: 1.4195 - acc: 0.4952 - val_loss: 0.7274 - val_acc: 0.8145\n",
      "Epoch 33/300\n",
      "162/167 [============================>.] - ETA: 0s - loss: 1.4058 - acc: 0.5108"
     ]
    },
    {
     "name": "stderr",
     "output_type": "stream",
     "text": [
      "WARNING:absl:Found untraced functions such as lstm_cell_layer_call_fn, lstm_cell_layer_call_and_return_conditional_losses while saving (showing 2 of 2). These functions will not be directly callable after loading.\n"
     ]
    },
    {
     "name": "stdout",
     "output_type": "stream",
     "text": [
      "INFO:tensorflow:Assets written to: c://ai_project01/hand_lstm_train_result\\/assets\n"
     ]
    },
    {
     "name": "stderr",
     "output_type": "stream",
     "text": [
      "INFO:tensorflow:Assets written to: c://ai_project01/hand_lstm_train_result\\/assets\n"
     ]
    },
    {
     "name": "stdout",
     "output_type": "stream",
     "text": [
      "167/167 [==============================] - 3s 20ms/step - loss: 1.4025 - acc: 0.5123 - val_loss: 0.6953 - val_acc: 0.8263\n",
      "Epoch 34/300\n",
      "162/167 [============================>.] - ETA: 0s - loss: 1.3554 - acc: 0.5253"
     ]
    },
    {
     "name": "stderr",
     "output_type": "stream",
     "text": [
      "WARNING:absl:Found untraced functions such as lstm_cell_layer_call_fn, lstm_cell_layer_call_and_return_conditional_losses while saving (showing 2 of 2). These functions will not be directly callable after loading.\n"
     ]
    },
    {
     "name": "stdout",
     "output_type": "stream",
     "text": [
      "INFO:tensorflow:Assets written to: c://ai_project01/hand_lstm_train_result\\/assets\n"
     ]
    },
    {
     "name": "stderr",
     "output_type": "stream",
     "text": [
      "INFO:tensorflow:Assets written to: c://ai_project01/hand_lstm_train_result\\/assets\n"
     ]
    },
    {
     "name": "stdout",
     "output_type": "stream",
     "text": [
      "167/167 [==============================] - 4s 22ms/step - loss: 1.3583 - acc: 0.5222 - val_loss: 0.6706 - val_acc: 0.8364\n",
      "Epoch 35/300\n",
      "162/167 [============================>.] - ETA: 0s - loss: 1.3341 - acc: 0.5199"
     ]
    },
    {
     "name": "stderr",
     "output_type": "stream",
     "text": [
      "WARNING:absl:Found untraced functions such as lstm_cell_layer_call_fn, lstm_cell_layer_call_and_return_conditional_losses while saving (showing 2 of 2). These functions will not be directly callable after loading.\n"
     ]
    },
    {
     "name": "stdout",
     "output_type": "stream",
     "text": [
      "INFO:tensorflow:Assets written to: c://ai_project01/hand_lstm_train_result\\/assets\n"
     ]
    },
    {
     "name": "stderr",
     "output_type": "stream",
     "text": [
      "INFO:tensorflow:Assets written to: c://ai_project01/hand_lstm_train_result\\/assets\n"
     ]
    },
    {
     "name": "stdout",
     "output_type": "stream",
     "text": [
      "167/167 [==============================] - 4s 22ms/step - loss: 1.3362 - acc: 0.5201 - val_loss: 0.6653 - val_acc: 0.8415\n",
      "Epoch 36/300\n",
      "167/167 [==============================] - 1s 9ms/step - loss: 1.3253 - acc: 0.5265 - val_loss: 0.6548 - val_acc: 0.8347\n",
      "Epoch 37/300\n",
      "167/167 [==============================] - 1s 8ms/step - loss: 1.2890 - acc: 0.5475 - val_loss: 0.6362 - val_acc: 0.8398\n",
      "Epoch 38/300\n",
      "166/167 [============================>.] - ETA: 0s - loss: 1.2814 - acc: 0.5452"
     ]
    },
    {
     "name": "stderr",
     "output_type": "stream",
     "text": [
      "WARNING:absl:Found untraced functions such as lstm_cell_layer_call_fn, lstm_cell_layer_call_and_return_conditional_losses while saving (showing 2 of 2). These functions will not be directly callable after loading.\n"
     ]
    },
    {
     "name": "stdout",
     "output_type": "stream",
     "text": [
      "INFO:tensorflow:Assets written to: c://ai_project01/hand_lstm_train_result\\/assets\n"
     ]
    },
    {
     "name": "stderr",
     "output_type": "stream",
     "text": [
      "INFO:tensorflow:Assets written to: c://ai_project01/hand_lstm_train_result\\/assets\n"
     ]
    },
    {
     "name": "stdout",
     "output_type": "stream",
     "text": [
      "167/167 [==============================] - 3s 20ms/step - loss: 1.2816 - acc: 0.5449 - val_loss: 0.6244 - val_acc: 0.8533\n",
      "Epoch 39/300\n",
      "167/167 [==============================] - 1s 9ms/step - loss: 1.2418 - acc: 0.5576 - val_loss: 0.6274 - val_acc: 0.8432\n",
      "Epoch 40/300\n",
      "167/167 [==============================] - 1s 8ms/step - loss: 1.2528 - acc: 0.5565 - val_loss: 0.6016 - val_acc: 0.8432\n",
      "Epoch 41/300\n",
      "167/167 [==============================] - 1s 8ms/step - loss: 1.2210 - acc: 0.5657 - val_loss: 0.5894 - val_acc: 0.8381\n",
      "Epoch 42/300\n",
      "167/167 [==============================] - 1s 8ms/step - loss: 1.1720 - acc: 0.5859 - val_loss: 0.5784 - val_acc: 0.8499\n",
      "Epoch 43/300\n",
      "167/167 [==============================] - 1s 8ms/step - loss: 1.1710 - acc: 0.5792 - val_loss: 0.5746 - val_acc: 0.8398\n",
      "Epoch 44/300\n",
      "167/167 [==============================] - 1s 8ms/step - loss: 1.1876 - acc: 0.5666 - val_loss: 0.5718 - val_acc: 0.8381\n",
      "Epoch 45/300\n",
      "166/167 [============================>.] - ETA: 0s - loss: 1.1468 - acc: 0.5819"
     ]
    },
    {
     "name": "stderr",
     "output_type": "stream",
     "text": [
      "WARNING:absl:Found untraced functions such as lstm_cell_layer_call_fn, lstm_cell_layer_call_and_return_conditional_losses while saving (showing 2 of 2). These functions will not be directly callable after loading.\n"
     ]
    },
    {
     "name": "stdout",
     "output_type": "stream",
     "text": [
      "INFO:tensorflow:Assets written to: c://ai_project01/hand_lstm_train_result\\/assets\n"
     ]
    },
    {
     "name": "stderr",
     "output_type": "stream",
     "text": [
      "INFO:tensorflow:Assets written to: c://ai_project01/hand_lstm_train_result\\/assets\n"
     ]
    },
    {
     "name": "stdout",
     "output_type": "stream",
     "text": [
      "167/167 [==============================] - 3s 21ms/step - loss: 1.1466 - acc: 0.5816 - val_loss: 0.5557 - val_acc: 0.8600\n",
      "Epoch 46/300\n",
      "167/167 [==============================] - 1s 9ms/step - loss: 1.1237 - acc: 0.5863 - val_loss: 0.5557 - val_acc: 0.8415\n",
      "Epoch 47/300\n",
      "167/167 [==============================] - 1s 8ms/step - loss: 1.1269 - acc: 0.5916 - val_loss: 0.5576 - val_acc: 0.8499\n",
      "Epoch 48/300\n",
      "167/167 [==============================] - 1s 8ms/step - loss: 1.0937 - acc: 0.6015 - val_loss: 0.5397 - val_acc: 0.8516\n",
      "Epoch 49/300\n",
      "167/167 [==============================] - 1s 8ms/step - loss: 1.0964 - acc: 0.5991 - val_loss: 0.5334 - val_acc: 0.8583\n",
      "Epoch 50/300\n",
      "167/167 [==============================] - 1s 8ms/step - loss: 1.0866 - acc: 0.6007 - val_loss: 0.5229 - val_acc: 0.8533\n",
      "Epoch 51/300\n",
      "167/167 [==============================] - 1s 8ms/step - loss: 1.0732 - acc: 0.5998 - val_loss: 0.5354 - val_acc: 0.8415\n",
      "Epoch 52/300\n",
      "164/167 [============================>.] - ETA: 0s - loss: 1.0573 - acc: 0.5955"
     ]
    },
    {
     "name": "stderr",
     "output_type": "stream",
     "text": [
      "WARNING:absl:Found untraced functions such as lstm_cell_layer_call_fn, lstm_cell_layer_call_and_return_conditional_losses while saving (showing 2 of 2). These functions will not be directly callable after loading.\n"
     ]
    },
    {
     "name": "stdout",
     "output_type": "stream",
     "text": [
      "INFO:tensorflow:Assets written to: c://ai_project01/hand_lstm_train_result\\/assets\n"
     ]
    },
    {
     "name": "stderr",
     "output_type": "stream",
     "text": [
      "INFO:tensorflow:Assets written to: c://ai_project01/hand_lstm_train_result\\/assets\n"
     ]
    },
    {
     "name": "stdout",
     "output_type": "stream",
     "text": [
      "167/167 [==============================] - 3s 21ms/step - loss: 1.0591 - acc: 0.5948 - val_loss: 0.5121 - val_acc: 0.8617\n",
      "Epoch 53/300\n",
      "167/167 [==============================] - 1s 9ms/step - loss: 1.0747 - acc: 0.6021 - val_loss: 0.5096 - val_acc: 0.8499\n",
      "Epoch 54/300\n",
      "167/167 [==============================] - 1s 8ms/step - loss: 1.0234 - acc: 0.6165 - val_loss: 0.5067 - val_acc: 0.8516\n",
      "Epoch 55/300\n",
      "167/167 [==============================] - 1s 8ms/step - loss: 1.0228 - acc: 0.6253 - val_loss: 0.4988 - val_acc: 0.8465\n",
      "Epoch 56/300\n",
      "167/167 [==============================] - 1s 8ms/step - loss: 0.9988 - acc: 0.6266 - val_loss: 0.4844 - val_acc: 0.8567\n",
      "Epoch 57/300\n",
      "165/167 [============================>.] - ETA: 0s - loss: 0.9974 - acc: 0.6383"
     ]
    },
    {
     "name": "stderr",
     "output_type": "stream",
     "text": [
      "WARNING:absl:Found untraced functions such as lstm_cell_layer_call_fn, lstm_cell_layer_call_and_return_conditional_losses while saving (showing 2 of 2). These functions will not be directly callable after loading.\n"
     ]
    },
    {
     "name": "stdout",
     "output_type": "stream",
     "text": [
      "INFO:tensorflow:Assets written to: c://ai_project01/hand_lstm_train_result\\/assets\n"
     ]
    },
    {
     "name": "stderr",
     "output_type": "stream",
     "text": [
      "INFO:tensorflow:Assets written to: c://ai_project01/hand_lstm_train_result\\/assets\n"
     ]
    },
    {
     "name": "stdout",
     "output_type": "stream",
     "text": [
      "167/167 [==============================] - 3s 20ms/step - loss: 0.9961 - acc: 0.6392 - val_loss: 0.4813 - val_acc: 0.8803\n",
      "Epoch 58/300\n",
      "167/167 [==============================] - 1s 9ms/step - loss: 0.9955 - acc: 0.6231 - val_loss: 0.4960 - val_acc: 0.8533\n",
      "Epoch 59/300\n",
      "167/167 [==============================] - 1s 8ms/step - loss: 0.9911 - acc: 0.6309 - val_loss: 0.4780 - val_acc: 0.8617\n",
      "Epoch 60/300\n",
      "167/167 [==============================] - 1s 8ms/step - loss: 0.9551 - acc: 0.6452 - val_loss: 0.4647 - val_acc: 0.8685\n",
      "Epoch 61/300\n",
      "167/167 [==============================] - 1s 8ms/step - loss: 0.9523 - acc: 0.6465 - val_loss: 0.4826 - val_acc: 0.8583\n",
      "Epoch 62/300\n",
      "167/167 [==============================] - 1s 8ms/step - loss: 0.9552 - acc: 0.6431 - val_loss: 0.4711 - val_acc: 0.8651\n",
      "Epoch 63/300\n",
      "167/167 [==============================] - 1s 8ms/step - loss: 0.9511 - acc: 0.6416 - val_loss: 0.4671 - val_acc: 0.8567\n",
      "Epoch 64/300\n",
      "167/167 [==============================] - 1s 8ms/step - loss: 0.9388 - acc: 0.6504 - val_loss: 0.4611 - val_acc: 0.8752\n",
      "Epoch 65/300\n",
      "167/167 [==============================] - 1s 8ms/step - loss: 0.9154 - acc: 0.6594 - val_loss: 0.4535 - val_acc: 0.8718\n",
      "Epoch 66/300\n",
      "167/167 [==============================] - 1s 8ms/step - loss: 0.9049 - acc: 0.6602 - val_loss: 0.4500 - val_acc: 0.8685\n",
      "Epoch 67/300\n",
      "167/167 [==============================] - 1s 8ms/step - loss: 0.8970 - acc: 0.6562 - val_loss: 0.4698 - val_acc: 0.8583\n",
      "Epoch 68/300\n",
      "167/167 [==============================] - 1s 8ms/step - loss: 0.9187 - acc: 0.6521 - val_loss: 0.4563 - val_acc: 0.8769\n",
      "Epoch 69/300\n",
      "167/167 [==============================] - 1s 8ms/step - loss: 0.9039 - acc: 0.6611 - val_loss: 0.4457 - val_acc: 0.8718\n",
      "Epoch 70/300\n",
      "167/167 [==============================] - 1s 8ms/step - loss: 0.8706 - acc: 0.6660 - val_loss: 0.4550 - val_acc: 0.8685\n",
      "Epoch 71/300\n",
      "167/167 [==============================] - 1s 8ms/step - loss: 0.8835 - acc: 0.6688 - val_loss: 0.4568 - val_acc: 0.8752\n",
      "Epoch 72/300\n",
      "167/167 [==============================] - 1s 8ms/step - loss: 0.8813 - acc: 0.6710 - val_loss: 0.4526 - val_acc: 0.8600\n",
      "Epoch 73/300\n",
      "167/167 [==============================] - 1s 8ms/step - loss: 0.8824 - acc: 0.6695 - val_loss: 0.4465 - val_acc: 0.8634\n",
      "Epoch 74/300\n",
      "167/167 [==============================] - 1s 8ms/step - loss: 0.8550 - acc: 0.6740 - val_loss: 0.4357 - val_acc: 0.8718\n",
      "Epoch 75/300\n",
      "167/167 [==============================] - 1s 8ms/step - loss: 0.8528 - acc: 0.6776 - val_loss: 0.4280 - val_acc: 0.8769\n",
      "Epoch 76/300\n",
      "167/167 [==============================] - 1s 8ms/step - loss: 0.8485 - acc: 0.6789 - val_loss: 0.4339 - val_acc: 0.8769\n",
      "Epoch 77/300\n",
      "167/167 [==============================] - 1s 8ms/step - loss: 0.8666 - acc: 0.6671 - val_loss: 0.4271 - val_acc: 0.8668\n",
      "Epoch 78/300\n",
      "167/167 [==============================] - 1s 8ms/step - loss: 0.8284 - acc: 0.6873 - val_loss: 0.4209 - val_acc: 0.8769\n",
      "Epoch 79/300\n",
      "161/167 [===========================>..] - ETA: 0s - loss: 0.8459 - acc: 0.6747"
     ]
    },
    {
     "name": "stderr",
     "output_type": "stream",
     "text": [
      "WARNING:absl:Found untraced functions such as lstm_cell_layer_call_fn, lstm_cell_layer_call_and_return_conditional_losses while saving (showing 2 of 2). These functions will not be directly callable after loading.\n"
     ]
    },
    {
     "name": "stdout",
     "output_type": "stream",
     "text": [
      "INFO:tensorflow:Assets written to: c://ai_project01/hand_lstm_train_result\\/assets\n"
     ]
    },
    {
     "name": "stderr",
     "output_type": "stream",
     "text": [
      "INFO:tensorflow:Assets written to: c://ai_project01/hand_lstm_train_result\\/assets\n"
     ]
    },
    {
     "name": "stdout",
     "output_type": "stream",
     "text": [
      "167/167 [==============================] - 3s 21ms/step - loss: 0.8399 - acc: 0.6767 - val_loss: 0.4103 - val_acc: 0.8887\n",
      "Epoch 80/300\n",
      "167/167 [==============================] - 1s 8ms/step - loss: 0.8489 - acc: 0.6815 - val_loss: 0.4189 - val_acc: 0.8634\n",
      "Epoch 81/300\n",
      "167/167 [==============================] - 1s 8ms/step - loss: 0.8128 - acc: 0.6982 - val_loss: 0.4150 - val_acc: 0.8820\n",
      "Epoch 82/300\n",
      "167/167 [==============================] - 1s 8ms/step - loss: 0.8190 - acc: 0.6928 - val_loss: 0.4166 - val_acc: 0.8786\n",
      "Epoch 83/300\n",
      "167/167 [==============================] - 1s 8ms/step - loss: 0.8120 - acc: 0.6973 - val_loss: 0.4150 - val_acc: 0.8702\n",
      "Epoch 84/300\n",
      "167/167 [==============================] - 1s 8ms/step - loss: 0.7948 - acc: 0.7031 - val_loss: 0.4152 - val_acc: 0.8718\n",
      "Epoch 85/300\n",
      "167/167 [==============================] - 1s 8ms/step - loss: 0.7820 - acc: 0.6988 - val_loss: 0.4148 - val_acc: 0.8735\n",
      "Epoch 86/300\n",
      "167/167 [==============================] - 1s 8ms/step - loss: 0.7987 - acc: 0.6973 - val_loss: 0.4101 - val_acc: 0.8718\n",
      "Epoch 87/300\n",
      "167/167 [==============================] - 1s 8ms/step - loss: 0.7759 - acc: 0.7042 - val_loss: 0.4059 - val_acc: 0.8735\n",
      "Epoch 88/300\n",
      "167/167 [==============================] - 1s 8ms/step - loss: 0.7635 - acc: 0.7106 - val_loss: 0.4094 - val_acc: 0.8718\n",
      "Epoch 89/300\n",
      "167/167 [==============================] - 1s 8ms/step - loss: 0.7830 - acc: 0.6973 - val_loss: 0.4044 - val_acc: 0.8887\n",
      "Epoch 90/300\n",
      "167/167 [==============================] - 1s 8ms/step - loss: 0.7586 - acc: 0.7074 - val_loss: 0.4065 - val_acc: 0.8718\n",
      "Epoch 91/300\n",
      "167/167 [==============================] - 1s 8ms/step - loss: 0.7591 - acc: 0.7070 - val_loss: 0.4178 - val_acc: 0.8803\n",
      "Epoch 92/300\n",
      "167/167 [==============================] - 1s 8ms/step - loss: 0.7424 - acc: 0.7158 - val_loss: 0.4165 - val_acc: 0.8752\n",
      "Epoch 93/300\n",
      "167/167 [==============================] - 1s 8ms/step - loss: 0.7775 - acc: 0.7035 - val_loss: 0.4107 - val_acc: 0.8702\n",
      "Epoch 94/300\n",
      "167/167 [==============================] - 1s 8ms/step - loss: 0.7577 - acc: 0.7098 - val_loss: 0.3935 - val_acc: 0.8870\n",
      "Epoch 95/300\n",
      "167/167 [==============================] - 1s 8ms/step - loss: 0.7465 - acc: 0.7205 - val_loss: 0.3955 - val_acc: 0.8668\n",
      "Epoch 96/300\n",
      "167/167 [==============================] - 1s 8ms/step - loss: 0.7409 - acc: 0.7200 - val_loss: 0.4011 - val_acc: 0.8668\n",
      "Epoch 97/300\n",
      "165/167 [============================>.] - ETA: 0s - loss: 0.7138 - acc: 0.7271"
     ]
    },
    {
     "name": "stderr",
     "output_type": "stream",
     "text": [
      "WARNING:absl:Found untraced functions such as lstm_cell_layer_call_fn, lstm_cell_layer_call_and_return_conditional_losses while saving (showing 2 of 2). These functions will not be directly callable after loading.\n"
     ]
    },
    {
     "name": "stdout",
     "output_type": "stream",
     "text": [
      "INFO:tensorflow:Assets written to: c://ai_project01/hand_lstm_train_result\\/assets\n"
     ]
    },
    {
     "name": "stderr",
     "output_type": "stream",
     "text": [
      "INFO:tensorflow:Assets written to: c://ai_project01/hand_lstm_train_result\\/assets\n"
     ]
    },
    {
     "name": "stdout",
     "output_type": "stream",
     "text": [
      "167/167 [==============================] - 3s 21ms/step - loss: 0.7129 - acc: 0.7273 - val_loss: 0.3814 - val_acc: 0.8954\n",
      "Epoch 98/300\n",
      "167/167 [==============================] - 1s 9ms/step - loss: 0.7420 - acc: 0.7110 - val_loss: 0.3902 - val_acc: 0.8820\n",
      "Epoch 99/300\n",
      "167/167 [==============================] - 1s 8ms/step - loss: 0.7346 - acc: 0.7196 - val_loss: 0.3825 - val_acc: 0.8735\n",
      "Epoch 100/300\n",
      "167/167 [==============================] - ETA: 0s - loss: 0.7453 - acc: 0.7140"
     ]
    },
    {
     "name": "stderr",
     "output_type": "stream",
     "text": [
      "WARNING:absl:Found untraced functions such as lstm_cell_layer_call_fn, lstm_cell_layer_call_and_return_conditional_losses while saving (showing 2 of 2). These functions will not be directly callable after loading.\n"
     ]
    },
    {
     "name": "stdout",
     "output_type": "stream",
     "text": [
      "INFO:tensorflow:Assets written to: c://ai_project01/hand_lstm_train_result\\/assets\n"
     ]
    },
    {
     "name": "stderr",
     "output_type": "stream",
     "text": [
      "INFO:tensorflow:Assets written to: c://ai_project01/hand_lstm_train_result\\/assets\n"
     ]
    },
    {
     "name": "stdout",
     "output_type": "stream",
     "text": [
      "167/167 [==============================] - 3s 20ms/step - loss: 0.7453 - acc: 0.7140 - val_loss: 0.3945 - val_acc: 0.8971\n",
      "Epoch 101/300\n",
      "167/167 [==============================] - 1s 9ms/step - loss: 0.7210 - acc: 0.7228 - val_loss: 0.3847 - val_acc: 0.8820\n",
      "Epoch 102/300\n",
      "162/167 [============================>.] - ETA: 0s - loss: 0.7111 - acc: 0.7296"
     ]
    },
    {
     "name": "stderr",
     "output_type": "stream",
     "text": [
      "WARNING:absl:Found untraced functions such as lstm_cell_layer_call_fn, lstm_cell_layer_call_and_return_conditional_losses while saving (showing 2 of 2). These functions will not be directly callable after loading.\n"
     ]
    },
    {
     "name": "stdout",
     "output_type": "stream",
     "text": [
      "INFO:tensorflow:Assets written to: c://ai_project01/hand_lstm_train_result\\/assets\n"
     ]
    },
    {
     "name": "stderr",
     "output_type": "stream",
     "text": [
      "INFO:tensorflow:Assets written to: c://ai_project01/hand_lstm_train_result\\/assets\n"
     ]
    },
    {
     "name": "stdout",
     "output_type": "stream",
     "text": [
      "167/167 [==============================] - 3s 21ms/step - loss: 0.7120 - acc: 0.7297 - val_loss: 0.3815 - val_acc: 0.8988\n",
      "Epoch 103/300\n",
      "167/167 [==============================] - 1s 9ms/step - loss: 0.7067 - acc: 0.7346 - val_loss: 0.3845 - val_acc: 0.8769\n",
      "Epoch 104/300\n",
      "167/167 [==============================] - 1s 8ms/step - loss: 0.7116 - acc: 0.7267 - val_loss: 0.3880 - val_acc: 0.8938\n",
      "Epoch 105/300\n",
      "167/167 [==============================] - 1s 8ms/step - loss: 0.6979 - acc: 0.7314 - val_loss: 0.3793 - val_acc: 0.8938\n",
      "Epoch 106/300\n",
      "167/167 [==============================] - 1s 8ms/step - loss: 0.7043 - acc: 0.7273 - val_loss: 0.3942 - val_acc: 0.8836\n",
      "Epoch 107/300\n",
      "162/167 [============================>.] - ETA: 0s - loss: 0.7050 - acc: 0.7274"
     ]
    },
    {
     "name": "stderr",
     "output_type": "stream",
     "text": [
      "WARNING:absl:Found untraced functions such as lstm_cell_layer_call_fn, lstm_cell_layer_call_and_return_conditional_losses while saving (showing 2 of 2). These functions will not be directly callable after loading.\n"
     ]
    },
    {
     "name": "stdout",
     "output_type": "stream",
     "text": [
      "INFO:tensorflow:Assets written to: c://ai_project01/hand_lstm_train_result\\/assets\n"
     ]
    },
    {
     "name": "stderr",
     "output_type": "stream",
     "text": [
      "INFO:tensorflow:Assets written to: c://ai_project01/hand_lstm_train_result\\/assets\n"
     ]
    },
    {
     "name": "stdout",
     "output_type": "stream",
     "text": [
      "167/167 [==============================] - 3s 20ms/step - loss: 0.7066 - acc: 0.7258 - val_loss: 0.3806 - val_acc: 0.9056\n",
      "Epoch 108/300\n",
      "167/167 [==============================] - 1s 9ms/step - loss: 0.6820 - acc: 0.7385 - val_loss: 0.3787 - val_acc: 0.8870\n",
      "Epoch 109/300\n",
      "167/167 [==============================] - 1s 8ms/step - loss: 0.7047 - acc: 0.7290 - val_loss: 0.3729 - val_acc: 0.8904\n",
      "Epoch 110/300\n",
      "167/167 [==============================] - 1s 8ms/step - loss: 0.6884 - acc: 0.7273 - val_loss: 0.3856 - val_acc: 0.8870\n",
      "Epoch 111/300\n",
      "167/167 [==============================] - 1s 8ms/step - loss: 0.6770 - acc: 0.7443 - val_loss: 0.3876 - val_acc: 0.9005\n",
      "Epoch 112/300\n",
      "167/167 [==============================] - 1s 8ms/step - loss: 0.6769 - acc: 0.7366 - val_loss: 0.3606 - val_acc: 0.8954\n",
      "Epoch 113/300\n",
      "167/167 [==============================] - 1s 8ms/step - loss: 0.6684 - acc: 0.7411 - val_loss: 0.3855 - val_acc: 0.8836\n",
      "Epoch 114/300\n",
      "162/167 [============================>.] - ETA: 0s - loss: 0.6677 - acc: 0.7419"
     ]
    },
    {
     "name": "stderr",
     "output_type": "stream",
     "text": [
      "WARNING:absl:Found untraced functions such as lstm_cell_layer_call_fn, lstm_cell_layer_call_and_return_conditional_losses while saving (showing 2 of 2). These functions will not be directly callable after loading.\n"
     ]
    },
    {
     "name": "stdout",
     "output_type": "stream",
     "text": [
      "INFO:tensorflow:Assets written to: c://ai_project01/hand_lstm_train_result\\/assets\n"
     ]
    },
    {
     "name": "stderr",
     "output_type": "stream",
     "text": [
      "INFO:tensorflow:Assets written to: c://ai_project01/hand_lstm_train_result\\/assets\n"
     ]
    },
    {
     "name": "stdout",
     "output_type": "stream",
     "text": [
      "167/167 [==============================] - 4s 21ms/step - loss: 0.6710 - acc: 0.7410 - val_loss: 0.3513 - val_acc: 0.9174\n",
      "Epoch 115/300\n",
      "167/167 [==============================] - 1s 9ms/step - loss: 0.6678 - acc: 0.7370 - val_loss: 0.3675 - val_acc: 0.9123\n",
      "Epoch 116/300\n",
      "167/167 [==============================] - 1s 8ms/step - loss: 0.6835 - acc: 0.7441 - val_loss: 0.3713 - val_acc: 0.8853\n",
      "Epoch 117/300\n",
      "167/167 [==============================] - 1s 8ms/step - loss: 0.6741 - acc: 0.7462 - val_loss: 0.3690 - val_acc: 0.9005\n",
      "Epoch 118/300\n",
      "167/167 [==============================] - 1s 7ms/step - loss: 0.6347 - acc: 0.7503 - val_loss: 0.3624 - val_acc: 0.8988\n",
      "Epoch 119/300\n",
      "167/167 [==============================] - 1s 7ms/step - loss: 0.6692 - acc: 0.7456 - val_loss: 0.3560 - val_acc: 0.9174\n",
      "Epoch 120/300\n",
      "167/167 [==============================] - 1s 7ms/step - loss: 0.6685 - acc: 0.7419 - val_loss: 0.3628 - val_acc: 0.9140\n",
      "Epoch 121/300\n",
      "167/167 [==============================] - 1s 8ms/step - loss: 0.6314 - acc: 0.7578 - val_loss: 0.3372 - val_acc: 0.9073\n",
      "Epoch 122/300\n",
      "167/167 [==============================] - 1s 8ms/step - loss: 0.6523 - acc: 0.7486 - val_loss: 0.3600 - val_acc: 0.9056\n",
      "Epoch 123/300\n",
      "167/167 [==============================] - 1s 8ms/step - loss: 0.6503 - acc: 0.7576 - val_loss: 0.3770 - val_acc: 0.8954\n",
      "Epoch 124/300\n",
      "167/167 [==============================] - 1s 8ms/step - loss: 0.6335 - acc: 0.7539 - val_loss: 0.3504 - val_acc: 0.9157\n",
      "Epoch 125/300\n",
      "167/167 [==============================] - 1s 8ms/step - loss: 0.6426 - acc: 0.7449 - val_loss: 0.3699 - val_acc: 0.8769\n",
      "Epoch 126/300\n",
      "167/167 [==============================] - 1s 8ms/step - loss: 0.6316 - acc: 0.7560 - val_loss: 0.3566 - val_acc: 0.9073\n",
      "Epoch 127/300\n",
      "167/167 [==============================] - 1s 8ms/step - loss: 0.6224 - acc: 0.7580 - val_loss: 0.3573 - val_acc: 0.9005\n",
      "Epoch 128/300\n",
      "167/167 [==============================] - 1s 8ms/step - loss: 0.6336 - acc: 0.7507 - val_loss: 0.3651 - val_acc: 0.9073\n",
      "Epoch 129/300\n",
      "167/167 [==============================] - 1s 8ms/step - loss: 0.6208 - acc: 0.7606 - val_loss: 0.3780 - val_acc: 0.8954\n",
      "Epoch 130/300\n",
      "167/167 [==============================] - 1s 8ms/step - loss: 0.6150 - acc: 0.7625 - val_loss: 0.3616 - val_acc: 0.9022\n",
      "Epoch 131/300\n",
      "167/167 [==============================] - 1s 6ms/step - loss: 0.6235 - acc: 0.7642 - val_loss: 0.3565 - val_acc: 0.9073\n",
      "Epoch 132/300\n",
      "167/167 [==============================] - 1s 7ms/step - loss: 0.6050 - acc: 0.7681 - val_loss: 0.3674 - val_acc: 0.9039\n",
      "Epoch 133/300\n",
      "167/167 [==============================] - 1s 6ms/step - loss: 0.6216 - acc: 0.7642 - val_loss: 0.3631 - val_acc: 0.9073\n",
      "Epoch 134/300\n",
      "167/167 [==============================] - 1s 5ms/step - loss: 0.6091 - acc: 0.7679 - val_loss: 0.3659 - val_acc: 0.8904\n",
      "Epoch 135/300\n",
      "167/167 [==============================] - 1s 8ms/step - loss: 0.6054 - acc: 0.7631 - val_loss: 0.3618 - val_acc: 0.9106\n",
      "Epoch 136/300\n",
      "167/167 [==============================] - 1s 7ms/step - loss: 0.5938 - acc: 0.7651 - val_loss: 0.3583 - val_acc: 0.9056\n",
      "Epoch 137/300\n",
      "167/167 [==============================] - 1s 6ms/step - loss: 0.5790 - acc: 0.7779 - val_loss: 0.3904 - val_acc: 0.8954\n",
      "Epoch 138/300\n",
      "166/167 [============================>.] - ETA: 0s - loss: 0.6053 - acc: 0.7666"
     ]
    },
    {
     "name": "stderr",
     "output_type": "stream",
     "text": [
      "WARNING:absl:Found untraced functions such as lstm_cell_layer_call_fn, lstm_cell_layer_call_and_return_conditional_losses while saving (showing 2 of 2). These functions will not be directly callable after loading.\n"
     ]
    },
    {
     "name": "stdout",
     "output_type": "stream",
     "text": [
      "INFO:tensorflow:Assets written to: c://ai_project01/hand_lstm_train_result\\/assets\n"
     ]
    },
    {
     "name": "stderr",
     "output_type": "stream",
     "text": [
      "INFO:tensorflow:Assets written to: c://ai_project01/hand_lstm_train_result\\/assets\n"
     ]
    },
    {
     "name": "stdout",
     "output_type": "stream",
     "text": [
      "167/167 [==============================] - 3s 20ms/step - loss: 0.6049 - acc: 0.7668 - val_loss: 0.3534 - val_acc: 0.9224\n",
      "Epoch 139/300\n",
      "167/167 [==============================] - 2s 9ms/step - loss: 0.5966 - acc: 0.7610 - val_loss: 0.3504 - val_acc: 0.9224\n",
      "Epoch 140/300\n",
      "167/167 [==============================] - 1s 8ms/step - loss: 0.5880 - acc: 0.7685 - val_loss: 0.3479 - val_acc: 0.9106\n",
      "Epoch 141/300\n",
      "167/167 [==============================] - 1s 8ms/step - loss: 0.6001 - acc: 0.7593 - val_loss: 0.3386 - val_acc: 0.9157\n",
      "Epoch 142/300\n",
      "167/167 [==============================] - 1s 7ms/step - loss: 0.6001 - acc: 0.7670 - val_loss: 0.3327 - val_acc: 0.9174\n",
      "Epoch 143/300\n",
      "167/167 [==============================] - 1s 6ms/step - loss: 0.5935 - acc: 0.7814 - val_loss: 0.3597 - val_acc: 0.9157\n",
      "Epoch 144/300\n",
      "167/167 [==============================] - 1s 7ms/step - loss: 0.5765 - acc: 0.7822 - val_loss: 0.3676 - val_acc: 0.9005\n",
      "Epoch 145/300\n",
      "167/167 [==============================] - 1s 8ms/step - loss: 0.5703 - acc: 0.7818 - val_loss: 0.3458 - val_acc: 0.9207\n",
      "Epoch 146/300\n",
      "167/167 [==============================] - 1s 7ms/step - loss: 0.5712 - acc: 0.7779 - val_loss: 0.3594 - val_acc: 0.8988\n",
      "Epoch 147/300\n",
      "167/167 [==============================] - 1s 7ms/step - loss: 0.5693 - acc: 0.7876 - val_loss: 0.3347 - val_acc: 0.9174\n",
      "Epoch 148/300\n",
      "167/167 [==============================] - 1s 6ms/step - loss: 0.5716 - acc: 0.7769 - val_loss: 0.3217 - val_acc: 0.9140\n",
      "Epoch 149/300\n",
      "167/167 [==============================] - 1s 7ms/step - loss: 0.5612 - acc: 0.7781 - val_loss: 0.3354 - val_acc: 0.9106\n",
      "Epoch 150/300\n",
      "163/167 [============================>.] - ETA: 0s - loss: 0.5668 - acc: 0.7759"
     ]
    },
    {
     "name": "stderr",
     "output_type": "stream",
     "text": [
      "WARNING:absl:Found untraced functions such as lstm_cell_layer_call_fn, lstm_cell_layer_call_and_return_conditional_losses while saving (showing 2 of 2). These functions will not be directly callable after loading.\n"
     ]
    },
    {
     "name": "stdout",
     "output_type": "stream",
     "text": [
      "INFO:tensorflow:Assets written to: c://ai_project01/hand_lstm_train_result\\/assets\n"
     ]
    },
    {
     "name": "stderr",
     "output_type": "stream",
     "text": [
      "INFO:tensorflow:Assets written to: c://ai_project01/hand_lstm_train_result\\/assets\n"
     ]
    },
    {
     "name": "stdout",
     "output_type": "stream",
     "text": [
      "167/167 [==============================] - 3s 20ms/step - loss: 0.5672 - acc: 0.7751 - val_loss: 0.3340 - val_acc: 0.9342\n",
      "Epoch 151/300\n",
      "167/167 [==============================] - ETA: 0s - loss: 0.5669 - acc: 0.7824"
     ]
    },
    {
     "name": "stderr",
     "output_type": "stream",
     "text": [
      "WARNING:absl:Found untraced functions such as lstm_cell_layer_call_fn, lstm_cell_layer_call_and_return_conditional_losses while saving (showing 2 of 2). These functions will not be directly callable after loading.\n"
     ]
    },
    {
     "name": "stdout",
     "output_type": "stream",
     "text": [
      "INFO:tensorflow:Assets written to: c://ai_project01/hand_lstm_train_result\\/assets\n"
     ]
    },
    {
     "name": "stderr",
     "output_type": "stream",
     "text": [
      "INFO:tensorflow:Assets written to: c://ai_project01/hand_lstm_train_result\\/assets\n"
     ]
    },
    {
     "name": "stdout",
     "output_type": "stream",
     "text": [
      "167/167 [==============================] - 4s 22ms/step - loss: 0.5669 - acc: 0.7824 - val_loss: 0.3233 - val_acc: 0.9359\n",
      "Epoch 152/300\n",
      "167/167 [==============================] - 1s 9ms/step - loss: 0.5570 - acc: 0.7807 - val_loss: 0.3398 - val_acc: 0.9191\n",
      "Epoch 153/300\n",
      "167/167 [==============================] - 1s 8ms/step - loss: 0.5487 - acc: 0.7882 - val_loss: 0.3510 - val_acc: 0.9207\n",
      "Epoch 154/300\n",
      "167/167 [==============================] - 1s 8ms/step - loss: 0.5484 - acc: 0.7910 - val_loss: 0.3323 - val_acc: 0.9140\n",
      "Epoch 155/300\n",
      "167/167 [==============================] - 1s 8ms/step - loss: 0.5562 - acc: 0.7893 - val_loss: 0.3417 - val_acc: 0.9089\n",
      "Epoch 156/300\n",
      "167/167 [==============================] - 1s 8ms/step - loss: 0.5538 - acc: 0.7888 - val_loss: 0.3496 - val_acc: 0.9292\n",
      "Epoch 157/300\n",
      "167/167 [==============================] - 1s 8ms/step - loss: 0.5496 - acc: 0.7852 - val_loss: 0.3196 - val_acc: 0.9106\n",
      "Epoch 158/300\n",
      "167/167 [==============================] - 1s 8ms/step - loss: 0.5618 - acc: 0.7844 - val_loss: 0.3269 - val_acc: 0.9123\n",
      "Epoch 159/300\n",
      "167/167 [==============================] - 1s 6ms/step - loss: 0.5593 - acc: 0.7874 - val_loss: 0.3274 - val_acc: 0.9157\n",
      "Epoch 160/300\n",
      "167/167 [==============================] - 1s 6ms/step - loss: 0.5403 - acc: 0.7895 - val_loss: 0.3440 - val_acc: 0.9140\n",
      "Epoch 161/300\n",
      "167/167 [==============================] - 1s 8ms/step - loss: 0.5429 - acc: 0.7891 - val_loss: 0.3423 - val_acc: 0.9157\n",
      "Epoch 162/300\n",
      "167/167 [==============================] - 1s 8ms/step - loss: 0.5263 - acc: 0.7996 - val_loss: 0.3331 - val_acc: 0.9258\n",
      "Epoch 163/300\n",
      "167/167 [==============================] - 1s 7ms/step - loss: 0.5275 - acc: 0.7968 - val_loss: 0.3559 - val_acc: 0.9089\n",
      "Epoch 164/300\n",
      "167/167 [==============================] - 1s 6ms/step - loss: 0.5175 - acc: 0.8004 - val_loss: 0.3268 - val_acc: 0.9123\n",
      "Epoch 165/300\n",
      "167/167 [==============================] - 1s 6ms/step - loss: 0.5304 - acc: 0.7925 - val_loss: 0.3582 - val_acc: 0.9073\n",
      "Epoch 166/300\n",
      "167/167 [==============================] - 1s 7ms/step - loss: 0.5283 - acc: 0.8030 - val_loss: 0.3415 - val_acc: 0.9123\n",
      "Epoch 167/300\n",
      "167/167 [==============================] - 1s 8ms/step - loss: 0.5422 - acc: 0.7904 - val_loss: 0.3338 - val_acc: 0.9089\n",
      "Epoch 168/300\n",
      "167/167 [==============================] - 1s 7ms/step - loss: 0.5243 - acc: 0.7998 - val_loss: 0.3431 - val_acc: 0.9191\n",
      "Epoch 169/300\n",
      "167/167 [==============================] - 1s 7ms/step - loss: 0.5135 - acc: 0.8036 - val_loss: 0.3465 - val_acc: 0.9207\n",
      "Epoch 170/300\n",
      "167/167 [==============================] - 1s 5ms/step - loss: 0.4963 - acc: 0.8086 - val_loss: 0.3749 - val_acc: 0.9106\n",
      "Epoch 171/300\n",
      "167/167 [==============================] - 1s 7ms/step - loss: 0.5175 - acc: 0.8021 - val_loss: 0.3533 - val_acc: 0.9073\n",
      "Epoch 172/300\n",
      "167/167 [==============================] - 1s 8ms/step - loss: 0.5394 - acc: 0.7940 - val_loss: 0.3423 - val_acc: 0.9157\n",
      "Epoch 173/300\n",
      "167/167 [==============================] - 1s 7ms/step - loss: 0.5241 - acc: 0.7972 - val_loss: 0.3536 - val_acc: 0.9123\n",
      "Epoch 174/300\n",
      "167/167 [==============================] - 1s 7ms/step - loss: 0.4986 - acc: 0.8062 - val_loss: 0.3350 - val_acc: 0.9191\n",
      "Epoch 175/300\n",
      "167/167 [==============================] - 1s 6ms/step - loss: 0.5186 - acc: 0.8037 - val_loss: 0.3475 - val_acc: 0.9123\n",
      "Epoch 176/300\n",
      "167/167 [==============================] - 1s 6ms/step - loss: 0.5066 - acc: 0.8049 - val_loss: 0.3322 - val_acc: 0.9089\n",
      "Epoch 177/300\n",
      "167/167 [==============================] - 1s 8ms/step - loss: 0.4991 - acc: 0.8017 - val_loss: 0.3614 - val_acc: 0.9123\n",
      "Epoch 178/300\n",
      "167/167 [==============================] - 1s 7ms/step - loss: 0.4877 - acc: 0.8144 - val_loss: 0.3570 - val_acc: 0.9224\n",
      "Epoch 179/300\n",
      "167/167 [==============================] - 1s 6ms/step - loss: 0.4951 - acc: 0.8004 - val_loss: 0.3469 - val_acc: 0.9157\n",
      "Epoch 180/300\n",
      "167/167 [==============================] - 1s 7ms/step - loss: 0.5048 - acc: 0.8077 - val_loss: 0.3580 - val_acc: 0.9089\n",
      "Epoch 181/300\n",
      "167/167 [==============================] - 1s 8ms/step - loss: 0.5070 - acc: 0.8036 - val_loss: 0.3485 - val_acc: 0.9073\n",
      "Epoch 182/300\n",
      "167/167 [==============================] - 1s 8ms/step - loss: 0.4857 - acc: 0.8124 - val_loss: 0.3556 - val_acc: 0.9089\n",
      "Epoch 183/300\n",
      "167/167 [==============================] - 1s 7ms/step - loss: 0.4749 - acc: 0.8114 - val_loss: 0.3067 - val_acc: 0.9325\n",
      "Epoch 184/300\n",
      "167/167 [==============================] - 1s 7ms/step - loss: 0.4857 - acc: 0.8126 - val_loss: 0.3386 - val_acc: 0.9056\n",
      "Epoch 185/300\n",
      "167/167 [==============================] - 1s 7ms/step - loss: 0.4841 - acc: 0.8118 - val_loss: 0.3182 - val_acc: 0.9157\n",
      "Epoch 186/300\n",
      "167/167 [==============================] - 1s 7ms/step - loss: 0.4965 - acc: 0.8141 - val_loss: 0.3452 - val_acc: 0.9207\n",
      "Epoch 187/300\n",
      "167/167 [==============================] - 1s 7ms/step - loss: 0.5008 - acc: 0.8034 - val_loss: 0.3201 - val_acc: 0.9258\n",
      "Epoch 188/300\n",
      "167/167 [==============================] - 1s 7ms/step - loss: 0.4696 - acc: 0.8221 - val_loss: 0.3305 - val_acc: 0.9191\n",
      "Epoch 189/300\n",
      "167/167 [==============================] - 1s 7ms/step - loss: 0.5038 - acc: 0.8041 - val_loss: 0.3428 - val_acc: 0.9191\n",
      "Epoch 190/300\n",
      "167/167 [==============================] - 1s 7ms/step - loss: 0.4713 - acc: 0.8156 - val_loss: 0.3265 - val_acc: 0.9073\n",
      "Epoch 191/300\n",
      "167/167 [==============================] - 1s 7ms/step - loss: 0.4692 - acc: 0.8133 - val_loss: 0.3126 - val_acc: 0.9359\n",
      "Epoch 192/300\n",
      "167/167 [==============================] - 1s 6ms/step - loss: 0.4861 - acc: 0.8189 - val_loss: 0.3219 - val_acc: 0.9140\n",
      "Epoch 193/300\n",
      "167/167 [==============================] - 1s 7ms/step - loss: 0.4710 - acc: 0.8161 - val_loss: 0.3389 - val_acc: 0.9140\n",
      "Epoch 194/300\n",
      "167/167 [==============================] - 1s 6ms/step - loss: 0.4728 - acc: 0.8186 - val_loss: 0.3379 - val_acc: 0.9140\n",
      "Epoch 195/300\n",
      "167/167 [==============================] - 1s 7ms/step - loss: 0.4732 - acc: 0.8199 - val_loss: 0.3301 - val_acc: 0.9174\n",
      "Epoch 196/300\n",
      "167/167 [==============================] - 1s 6ms/step - loss: 0.4597 - acc: 0.8261 - val_loss: 0.3742 - val_acc: 0.9056\n",
      "Epoch 197/300\n",
      "167/167 [==============================] - 1s 7ms/step - loss: 0.4673 - acc: 0.8231 - val_loss: 0.3391 - val_acc: 0.9140\n",
      "Epoch 198/300\n",
      "167/167 [==============================] - 1s 6ms/step - loss: 0.4820 - acc: 0.8184 - val_loss: 0.3226 - val_acc: 0.9157\n",
      "Epoch 199/300\n",
      "167/167 [==============================] - 1s 7ms/step - loss: 0.4649 - acc: 0.8251 - val_loss: 0.3216 - val_acc: 0.9174\n",
      "Epoch 200/300\n",
      "167/167 [==============================] - 1s 6ms/step - loss: 0.4964 - acc: 0.8193 - val_loss: 0.3409 - val_acc: 0.9123\n",
      "Epoch 201/300\n",
      "167/167 [==============================] - 1s 6ms/step - loss: 0.4859 - acc: 0.8124 - val_loss: 0.3350 - val_acc: 0.9123\n",
      "Epoch 202/300\n",
      "167/167 [==============================] - 1s 8ms/step - loss: 0.4729 - acc: 0.8174 - val_loss: 0.3357 - val_acc: 0.9191\n",
      "Epoch 203/300\n",
      "167/167 [==============================] - 1s 7ms/step - loss: 0.4733 - acc: 0.8129 - val_loss: 0.3068 - val_acc: 0.9207\n",
      "Epoch 204/300\n",
      "167/167 [==============================] - 1s 7ms/step - loss: 0.4690 - acc: 0.8204 - val_loss: 0.3286 - val_acc: 0.9157\n",
      "Epoch 205/300\n",
      "167/167 [==============================] - 1s 8ms/step - loss: 0.4584 - acc: 0.8152 - val_loss: 0.3213 - val_acc: 0.9191\n",
      "Epoch 206/300\n",
      "167/167 [==============================] - 1s 7ms/step - loss: 0.4723 - acc: 0.8208 - val_loss: 0.3217 - val_acc: 0.9174\n",
      "Epoch 207/300\n",
      "167/167 [==============================] - 1s 8ms/step - loss: 0.4421 - acc: 0.8292 - val_loss: 0.3642 - val_acc: 0.9191\n",
      "Epoch 208/300\n",
      "167/167 [==============================] - 1s 7ms/step - loss: 0.4444 - acc: 0.8268 - val_loss: 0.3466 - val_acc: 0.9140\n",
      "Epoch 209/300\n",
      "167/167 [==============================] - 1s 6ms/step - loss: 0.4350 - acc: 0.8315 - val_loss: 0.3400 - val_acc: 0.9174\n",
      "Epoch 210/300\n",
      "167/167 [==============================] - 1s 7ms/step - loss: 0.4577 - acc: 0.8266 - val_loss: 0.3344 - val_acc: 0.9157\n",
      "Epoch 211/300\n",
      "167/167 [==============================] - 1s 7ms/step - loss: 0.4474 - acc: 0.8283 - val_loss: 0.3417 - val_acc: 0.9157\n",
      "Epoch 212/300\n",
      "167/167 [==============================] - 1s 7ms/step - loss: 0.4549 - acc: 0.8242 - val_loss: 0.3529 - val_acc: 0.9140\n",
      "Epoch 213/300\n",
      "167/167 [==============================] - 1s 7ms/step - loss: 0.4523 - acc: 0.8257 - val_loss: 0.3233 - val_acc: 0.9174\n"
     ]
    },
    {
     "data": {
      "text/plain": [
       "<keras.callbacks.History at 0x20e0ced3550>"
      ]
     },
     "execution_count": 31,
     "metadata": {},
     "output_type": "execute_result"
    }
   ],
   "source": [
    "model.fit(X_train, y_train, validation_data = (X_test, y_test), epochs=300, callbacks=[cb_checkpoint, earlystopping])"
   ]
  },
  {
   "cell_type": "code",
   "execution_count": null,
   "id": "b55f358f-9ce5-4efc-9008-20d3ca8c5a29",
   "metadata": {},
   "outputs": [],
   "source": []
  }
 ],
 "metadata": {
  "kernelspec": {
   "display_name": "Python 3 (ipykernel)",
   "language": "python",
   "name": "python3"
  },
  "language_info": {
   "codemirror_mode": {
    "name": "ipython",
    "version": 3
   },
   "file_extension": ".py",
   "mimetype": "text/x-python",
   "name": "python",
   "nbconvert_exporter": "python",
   "pygments_lexer": "ipython3",
   "version": "3.10.14"
  }
 },
 "nbformat": 4,
 "nbformat_minor": 5
}
